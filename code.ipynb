{
 "cells": [
  {
   "cell_type": "markdown",
   "id": "hU44XdsLSiLI",
   "metadata": {
    "id": "hU44XdsLSiLI"
   },
   "source": [
    "## Team **MacanMabur** (Binus University)\n",
    "\n",
    "### Anggota:\n",
    "- Andrew Widjaya\n",
    "- Kevina Nugraha Eleeas\n",
    "- Gabrielle Felicia Ariyanto\n",
    "- Jocelyn Verna Siswanto"
   ]
  },
  {
   "cell_type": "markdown",
   "id": "x1gspguhIumR",
   "metadata": {
    "id": "x1gspguhIumR"
   },
   "source": [
    "## 1. Import Library and Dataset"
   ]
  },
  {
   "cell_type": "code",
   "execution_count": 1,
   "id": "5o3wPzFzK_uB",
   "metadata": {
    "colab": {
     "base_uri": "https://localhost:8080/"
    },
    "id": "5o3wPzFzK_uB",
    "outputId": "7c04e03a-09b6-47db-9e7b-4778a488dbe0"
   },
   "outputs": [
    {
     "name": "stdout",
     "output_type": "stream",
     "text": [
      "Requirement already satisfied: kmodes in c:\\users\\asus\\anaconda3\\lib\\site-packages (0.12.1)\n",
      "Requirement already satisfied: scipy>=0.13.3 in c:\\users\\asus\\anaconda3\\lib\\site-packages (from kmodes) (1.7.3)\n",
      "Requirement already satisfied: numpy>=1.10.4 in c:\\users\\asus\\anaconda3\\lib\\site-packages (from kmodes) (1.21.5)\n",
      "Requirement already satisfied: scikit-learn>=0.22.0 in c:\\users\\asus\\anaconda3\\lib\\site-packages (from kmodes) (1.0.2)\n",
      "Requirement already satisfied: joblib>=0.11 in c:\\users\\asus\\anaconda3\\lib\\site-packages (from kmodes) (1.1.0)\n",
      "Requirement already satisfied: threadpoolctl>=2.0.0 in c:\\users\\asus\\anaconda3\\lib\\site-packages (from scikit-learn>=0.22.0->kmodes) (2.2.0)\n",
      "Note: you may need to restart the kernel to use updated packages.\n"
     ]
    }
   ],
   "source": [
    "pip install kmodes"
   ]
  },
  {
   "cell_type": "code",
   "execution_count": 2,
   "id": "c2c8969e",
   "metadata": {
    "id": "c2c8969e"
   },
   "outputs": [],
   "source": [
    "import numpy as np\n",
    "import pandas as pd\n",
    "import seaborn as sns\n",
    "import matplotlib.pyplot as plt\n",
    "import warnings\n",
    "import kmodes\n",
    "import matplotlib.cm as cm\n",
    "from sklearn.metrics import silhouette_score,silhouette_samples\n",
    "from sklearn.metrics import davies_bouldin_score"
   ]
  },
  {
   "cell_type": "code",
   "execution_count": 3,
   "id": "2ce3cc46",
   "metadata": {
    "id": "2ce3cc46"
   },
   "outputs": [],
   "source": [
    "warnings.filterwarnings(\"ignore\")"
   ]
  },
  {
   "cell_type": "code",
   "execution_count": 57,
   "id": "689521b4",
   "metadata": {
    "id": "689521b4"
   },
   "outputs": [],
   "source": [
    "df = pd.read_csv(\"dataset.csv\",delimiter=';',decimal=',')"
   ]
  },
  {
   "cell_type": "markdown",
   "id": "McnZt4N-HvHY",
   "metadata": {
    "id": "McnZt4N-HvHY"
   },
   "source": [
    "## 2. Data Understanding"
   ]
  },
  {
   "cell_type": "code",
   "execution_count": 58,
   "id": "7237b852",
   "metadata": {
    "colab": {
     "base_uri": "https://localhost:8080/"
    },
    "id": "7237b852",
    "outputId": "b4a75596-53a8-48ed-af06-d18c6b03e1d0"
   },
   "outputs": [
    {
     "data": {
      "text/plain": [
       "(11499, 11)"
      ]
     },
     "execution_count": 58,
     "metadata": {},
     "output_type": "execute_result"
    }
   ],
   "source": [
    "df.shape"
   ]
  },
  {
   "cell_type": "code",
   "execution_count": 6,
   "id": "50ac4af1",
   "metadata": {
    "colab": {
     "base_uri": "https://localhost:8080/",
     "height": 206
    },
    "id": "50ac4af1",
    "outputId": "66aca606-05d5-4567-b879-4b3808dfdd8c"
   },
   "outputs": [
    {
     "data": {
      "text/html": [
       "<div>\n",
       "<style scoped>\n",
       "    .dataframe tbody tr th:only-of-type {\n",
       "        vertical-align: middle;\n",
       "    }\n",
       "\n",
       "    .dataframe tbody tr th {\n",
       "        vertical-align: top;\n",
       "    }\n",
       "\n",
       "    .dataframe thead th {\n",
       "        text-align: right;\n",
       "    }\n",
       "</style>\n",
       "<table border=\"1\" class=\"dataframe\">\n",
       "  <thead>\n",
       "    <tr style=\"text-align: right;\">\n",
       "      <th></th>\n",
       "      <th>Nama</th>\n",
       "      <th>Gender</th>\n",
       "      <th>Tinggal_Dengan</th>\n",
       "      <th>Status_Kerja</th>\n",
       "      <th>Biaya</th>\n",
       "      <th>Tgl_Daftar_Kuliah</th>\n",
       "      <th>Alamat</th>\n",
       "      <th>UKM</th>\n",
       "      <th>Organisasi_Kampus</th>\n",
       "      <th>Lama_Kuliah</th>\n",
       "      <th>Fakultas</th>\n",
       "    </tr>\n",
       "  </thead>\n",
       "  <tbody>\n",
       "    <tr>\n",
       "      <th>0</th>\n",
       "      <td>Abbey Butler</td>\n",
       "      <td>Pria</td>\n",
       "      <td>Kos</td>\n",
       "      <td>Belum</td>\n",
       "      <td>Beasiswa</td>\n",
       "      <td>2008</td>\n",
       "      <td>Tangerang</td>\n",
       "      <td>UKM_3</td>\n",
       "      <td>Ya</td>\n",
       "      <td>3.5</td>\n",
       "      <td>DKV</td>\n",
       "    </tr>\n",
       "    <tr>\n",
       "      <th>1</th>\n",
       "      <td>Abbey Carpenter</td>\n",
       "      <td>Wanita</td>\n",
       "      <td>NaN</td>\n",
       "      <td>Belum</td>\n",
       "      <td>NaN</td>\n",
       "      <td>2009</td>\n",
       "      <td>Bekasi</td>\n",
       "      <td>UKM_2</td>\n",
       "      <td>Tidak</td>\n",
       "      <td>4.0</td>\n",
       "      <td>FIKOM</td>\n",
       "    </tr>\n",
       "    <tr>\n",
       "      <th>2</th>\n",
       "      <td>Abbey Dubois</td>\n",
       "      <td>Wanita</td>\n",
       "      <td>NaN</td>\n",
       "      <td>Bekerja</td>\n",
       "      <td>Beasiswa</td>\n",
       "      <td>2008</td>\n",
       "      <td>Serang</td>\n",
       "      <td>UKM_4</td>\n",
       "      <td>Tidak</td>\n",
       "      <td>4.5</td>\n",
       "      <td>FIKOM</td>\n",
       "    </tr>\n",
       "    <tr>\n",
       "      <th>3</th>\n",
       "      <td>Abbey Gosling</td>\n",
       "      <td>Wanita</td>\n",
       "      <td>Orang Tua</td>\n",
       "      <td>Belum</td>\n",
       "      <td>Beasiswa</td>\n",
       "      <td>2009</td>\n",
       "      <td>Serang</td>\n",
       "      <td>UKM_1</td>\n",
       "      <td>Tidak</td>\n",
       "      <td>5.5</td>\n",
       "      <td>DKV</td>\n",
       "    </tr>\n",
       "    <tr>\n",
       "      <th>4</th>\n",
       "      <td>Abbey Logan</td>\n",
       "      <td>Wanita</td>\n",
       "      <td>Orang Tua</td>\n",
       "      <td>Bekerja</td>\n",
       "      <td>NaN</td>\n",
       "      <td>2009</td>\n",
       "      <td>Bekasi</td>\n",
       "      <td>Tidak</td>\n",
       "      <td>Ya</td>\n",
       "      <td>6.5</td>\n",
       "      <td>DKV</td>\n",
       "    </tr>\n",
       "  </tbody>\n",
       "</table>\n",
       "</div>"
      ],
      "text/plain": [
       "              Nama  Gender Tinggal_Dengan Status_Kerja     Biaya  \\\n",
       "0     Abbey Butler    Pria            Kos        Belum  Beasiswa   \n",
       "1  Abbey Carpenter  Wanita            NaN        Belum       NaN   \n",
       "2     Abbey Dubois  Wanita            NaN      Bekerja  Beasiswa   \n",
       "3    Abbey Gosling  Wanita      Orang Tua        Belum  Beasiswa   \n",
       "4      Abbey Logan  Wanita      Orang Tua      Bekerja       NaN   \n",
       "\n",
       "   Tgl_Daftar_Kuliah     Alamat    UKM Organisasi_Kampus  Lama_Kuliah Fakultas  \n",
       "0               2008  Tangerang  UKM_3                Ya          3.5      DKV  \n",
       "1               2009     Bekasi  UKM_2             Tidak          4.0    FIKOM  \n",
       "2               2008     Serang  UKM_4             Tidak          4.5    FIKOM  \n",
       "3               2009     Serang  UKM_1             Tidak          5.5      DKV  \n",
       "4               2009     Bekasi  Tidak                Ya          6.5      DKV  "
      ]
     },
     "execution_count": 6,
     "metadata": {},
     "output_type": "execute_result"
    }
   ],
   "source": [
    "df.head()"
   ]
  },
  {
   "cell_type": "code",
   "execution_count": 7,
   "id": "994b4aa1",
   "metadata": {
    "colab": {
     "base_uri": "https://localhost:8080/",
     "height": 206
    },
    "id": "994b4aa1",
    "outputId": "181c36f7-adde-4cab-ee51-4acbe6d7e5bc"
   },
   "outputs": [
    {
     "data": {
      "text/html": [
       "<div>\n",
       "<style scoped>\n",
       "    .dataframe tbody tr th:only-of-type {\n",
       "        vertical-align: middle;\n",
       "    }\n",
       "\n",
       "    .dataframe tbody tr th {\n",
       "        vertical-align: top;\n",
       "    }\n",
       "\n",
       "    .dataframe thead th {\n",
       "        text-align: right;\n",
       "    }\n",
       "</style>\n",
       "<table border=\"1\" class=\"dataframe\">\n",
       "  <thead>\n",
       "    <tr style=\"text-align: right;\">\n",
       "      <th></th>\n",
       "      <th>Nama</th>\n",
       "      <th>Gender</th>\n",
       "      <th>Tinggal_Dengan</th>\n",
       "      <th>Status_Kerja</th>\n",
       "      <th>Biaya</th>\n",
       "      <th>Tgl_Daftar_Kuliah</th>\n",
       "      <th>Alamat</th>\n",
       "      <th>UKM</th>\n",
       "      <th>Organisasi_Kampus</th>\n",
       "      <th>Lama_Kuliah</th>\n",
       "      <th>Fakultas</th>\n",
       "    </tr>\n",
       "  </thead>\n",
       "  <tbody>\n",
       "    <tr>\n",
       "      <th>11494</th>\n",
       "      <td>Carter Downing</td>\n",
       "      <td>Pria</td>\n",
       "      <td>Orang Tua</td>\n",
       "      <td>Belum</td>\n",
       "      <td>Orang Tua</td>\n",
       "      <td>2009</td>\n",
       "      <td>Tangerang</td>\n",
       "      <td>UKM_3</td>\n",
       "      <td>Ya</td>\n",
       "      <td>4.5</td>\n",
       "      <td>FIKOM</td>\n",
       "    </tr>\n",
       "    <tr>\n",
       "      <th>11495</th>\n",
       "      <td>Carter Driscoll</td>\n",
       "      <td>Wanita</td>\n",
       "      <td>NaN</td>\n",
       "      <td>Bekerja</td>\n",
       "      <td>Beasiswa</td>\n",
       "      <td>2008</td>\n",
       "      <td>Karawang</td>\n",
       "      <td>Tidak</td>\n",
       "      <td>Tidak</td>\n",
       "      <td>3.5</td>\n",
       "      <td>DKV</td>\n",
       "    </tr>\n",
       "    <tr>\n",
       "      <th>11496</th>\n",
       "      <td>Carter Drummond</td>\n",
       "      <td>Wanita</td>\n",
       "      <td>Kos</td>\n",
       "      <td>Bekerja</td>\n",
       "      <td>Beasiswa</td>\n",
       "      <td>2007</td>\n",
       "      <td>Bogor</td>\n",
       "      <td>UKM_2</td>\n",
       "      <td>Ya</td>\n",
       "      <td>5.0</td>\n",
       "      <td>FT</td>\n",
       "    </tr>\n",
       "    <tr>\n",
       "      <th>11497</th>\n",
       "      <td>Carter Dubois</td>\n",
       "      <td>Wanita</td>\n",
       "      <td>Kos</td>\n",
       "      <td>Bekerja</td>\n",
       "      <td>NaN</td>\n",
       "      <td>2007</td>\n",
       "      <td>Karawang</td>\n",
       "      <td>UKM_4</td>\n",
       "      <td>Tidak</td>\n",
       "      <td>4.5</td>\n",
       "      <td>DKV</td>\n",
       "    </tr>\n",
       "    <tr>\n",
       "      <th>11498</th>\n",
       "      <td>Carter Edley</td>\n",
       "      <td>Wanita</td>\n",
       "      <td>Kos</td>\n",
       "      <td>Belum</td>\n",
       "      <td>NaN</td>\n",
       "      <td>2008</td>\n",
       "      <td>Bekasi</td>\n",
       "      <td>UKM_2</td>\n",
       "      <td>Ya</td>\n",
       "      <td>4.5</td>\n",
       "      <td>FIKOM</td>\n",
       "    </tr>\n",
       "  </tbody>\n",
       "</table>\n",
       "</div>"
      ],
      "text/plain": [
       "                  Nama  Gender Tinggal_Dengan Status_Kerja      Biaya  \\\n",
       "11494   Carter Downing    Pria      Orang Tua        Belum  Orang Tua   \n",
       "11495  Carter Driscoll  Wanita            NaN      Bekerja   Beasiswa   \n",
       "11496  Carter Drummond  Wanita            Kos      Bekerja   Beasiswa   \n",
       "11497    Carter Dubois  Wanita            Kos      Bekerja        NaN   \n",
       "11498     Carter Edley  Wanita            Kos        Belum        NaN   \n",
       "\n",
       "       Tgl_Daftar_Kuliah     Alamat    UKM Organisasi_Kampus  Lama_Kuliah  \\\n",
       "11494               2009  Tangerang  UKM_3                Ya          4.5   \n",
       "11495               2008   Karawang  Tidak             Tidak          3.5   \n",
       "11496               2007      Bogor  UKM_2                Ya          5.0   \n",
       "11497               2007   Karawang  UKM_4             Tidak          4.5   \n",
       "11498               2008     Bekasi  UKM_2                Ya          4.5   \n",
       "\n",
       "      Fakultas  \n",
       "11494    FIKOM  \n",
       "11495      DKV  \n",
       "11496       FT  \n",
       "11497      DKV  \n",
       "11498    FIKOM  "
      ]
     },
     "execution_count": 7,
     "metadata": {},
     "output_type": "execute_result"
    }
   ],
   "source": [
    "df.tail()"
   ]
  },
  {
   "cell_type": "code",
   "execution_count": 8,
   "id": "e7889fdb",
   "metadata": {
    "colab": {
     "base_uri": "https://localhost:8080/"
    },
    "id": "e7889fdb",
    "outputId": "3cb4fbf2-830c-4e44-d33a-7d7e5f264e82",
    "scrolled": true
   },
   "outputs": [
    {
     "name": "stdout",
     "output_type": "stream",
     "text": [
      "<class 'pandas.core.frame.DataFrame'>\n",
      "RangeIndex: 11499 entries, 0 to 11498\n",
      "Data columns (total 11 columns):\n",
      " #   Column             Non-Null Count  Dtype  \n",
      "---  ------             --------------  -----  \n",
      " 0   Nama               11499 non-null  object \n",
      " 1   Gender             11499 non-null  object \n",
      " 2   Tinggal_Dengan     7517 non-null   object \n",
      " 3   Status_Kerja       11499 non-null  object \n",
      " 4   Biaya              7720 non-null   object \n",
      " 5   Tgl_Daftar_Kuliah  11499 non-null  int64  \n",
      " 6   Alamat             11499 non-null  object \n",
      " 7   UKM                11499 non-null  object \n",
      " 8   Organisasi_Kampus  11499 non-null  object \n",
      " 9   Lama_Kuliah        11499 non-null  float64\n",
      " 10  Fakultas           11499 non-null  object \n",
      "dtypes: float64(1), int64(1), object(9)\n",
      "memory usage: 988.3+ KB\n"
     ]
    }
   ],
   "source": [
    "df.info()"
   ]
  },
  {
   "cell_type": "markdown",
   "id": "d2e2a47c",
   "metadata": {},
   "source": [
    "- Terdapat missing values pada variabel Biaya dan Tinggal_Dengan\n",
    "- Untuk variabel Tgl_Daftar_Kuliah dan Lama_Kuliah memiliki tipe data bukan object"
   ]
  },
  {
   "cell_type": "code",
   "execution_count": 9,
   "id": "44a71f0b",
   "metadata": {
    "colab": {
     "base_uri": "https://localhost:8080/",
     "height": 300
    },
    "id": "44a71f0b",
    "outputId": "0a038c96-245b-4f7b-eedc-df7268d051e7"
   },
   "outputs": [
    {
     "data": {
      "text/html": [
       "<div>\n",
       "<style scoped>\n",
       "    .dataframe tbody tr th:only-of-type {\n",
       "        vertical-align: middle;\n",
       "    }\n",
       "\n",
       "    .dataframe tbody tr th {\n",
       "        vertical-align: top;\n",
       "    }\n",
       "\n",
       "    .dataframe thead th {\n",
       "        text-align: right;\n",
       "    }\n",
       "</style>\n",
       "<table border=\"1\" class=\"dataframe\">\n",
       "  <thead>\n",
       "    <tr style=\"text-align: right;\">\n",
       "      <th></th>\n",
       "      <th>Tgl_Daftar_Kuliah</th>\n",
       "      <th>Lama_Kuliah</th>\n",
       "    </tr>\n",
       "  </thead>\n",
       "  <tbody>\n",
       "    <tr>\n",
       "      <th>count</th>\n",
       "      <td>11499.000000</td>\n",
       "      <td>11499.000000</td>\n",
       "    </tr>\n",
       "    <tr>\n",
       "      <th>mean</th>\n",
       "      <td>2007.996348</td>\n",
       "      <td>5.245804</td>\n",
       "    </tr>\n",
       "    <tr>\n",
       "      <th>std</th>\n",
       "      <td>0.816630</td>\n",
       "      <td>1.143226</td>\n",
       "    </tr>\n",
       "    <tr>\n",
       "      <th>min</th>\n",
       "      <td>2007.000000</td>\n",
       "      <td>3.500000</td>\n",
       "    </tr>\n",
       "    <tr>\n",
       "      <th>25%</th>\n",
       "      <td>2007.000000</td>\n",
       "      <td>4.500000</td>\n",
       "    </tr>\n",
       "    <tr>\n",
       "      <th>50%</th>\n",
       "      <td>2008.000000</td>\n",
       "      <td>5.000000</td>\n",
       "    </tr>\n",
       "    <tr>\n",
       "      <th>75%</th>\n",
       "      <td>2009.000000</td>\n",
       "      <td>6.000000</td>\n",
       "    </tr>\n",
       "    <tr>\n",
       "      <th>max</th>\n",
       "      <td>2009.000000</td>\n",
       "      <td>7.000000</td>\n",
       "    </tr>\n",
       "  </tbody>\n",
       "</table>\n",
       "</div>"
      ],
      "text/plain": [
       "       Tgl_Daftar_Kuliah   Lama_Kuliah\n",
       "count       11499.000000  11499.000000\n",
       "mean         2007.996348      5.245804\n",
       "std             0.816630      1.143226\n",
       "min          2007.000000      3.500000\n",
       "25%          2007.000000      4.500000\n",
       "50%          2008.000000      5.000000\n",
       "75%          2009.000000      6.000000\n",
       "max          2009.000000      7.000000"
      ]
     },
     "execution_count": 9,
     "metadata": {},
     "output_type": "execute_result"
    }
   ],
   "source": [
    "df.describe() # lihat distribusi data"
   ]
  },
  {
   "cell_type": "markdown",
   "id": "dQoEqt49IO2C",
   "metadata": {
    "id": "dQoEqt49IO2C"
   },
   "source": [
    "## 3. Data Cleaning"
   ]
  },
  {
   "cell_type": "code",
   "execution_count": 10,
   "id": "79fea7b2",
   "metadata": {
    "colab": {
     "base_uri": "https://localhost:8080/"
    },
    "id": "79fea7b2",
    "outputId": "cb99951d-f83a-414c-df15-6014fd8771e5"
   },
   "outputs": [
    {
     "data": {
      "text/plain": [
       "0"
      ]
     },
     "execution_count": 10,
     "metadata": {},
     "output_type": "execute_result"
    }
   ],
   "source": [
    "df.duplicated().sum()"
   ]
  },
  {
   "cell_type": "code",
   "execution_count": 59,
   "id": "818b4b86",
   "metadata": {
    "colab": {
     "base_uri": "https://localhost:8080/"
    },
    "id": "818b4b86",
    "outputId": "5c916224-e513-439f-cde2-f110c2b99d3d"
   },
   "outputs": [
    {
     "data": {
      "text/plain": [
       "Nama                    0\n",
       "Gender                  0\n",
       "Tinggal_Dengan       3982\n",
       "Status_Kerja            0\n",
       "Biaya                3779\n",
       "Tgl_Daftar_Kuliah       0\n",
       "Alamat                  0\n",
       "UKM                     0\n",
       "Organisasi_Kampus       0\n",
       "Lama_Kuliah             0\n",
       "Fakultas                0\n",
       "dtype: int64"
      ]
     },
     "execution_count": 59,
     "metadata": {},
     "output_type": "execute_result"
    }
   ],
   "source": [
    "df.isnull().sum()"
   ]
  },
  {
   "cell_type": "code",
   "execution_count": 60,
   "id": "9adc2265",
   "metadata": {
    "id": "9adc2265"
   },
   "outputs": [],
   "source": [
    "# mengganti tipe data menjadi object\n",
    "df['Tgl_Daftar_Kuliah'] = df['Tgl_Daftar_Kuliah'].astype('object')\n",
    "df['Lama_Kuliah'] = df['Lama_Kuliah'].astype('object')"
   ]
  },
  {
   "cell_type": "markdown",
   "id": "3MqQEXGdPFmi",
   "metadata": {
    "id": "3MqQEXGdPFmi"
   },
   "source": [
    "### Hapus Atribut yang Kurang Diperlukan"
   ]
  },
  {
   "cell_type": "code",
   "execution_count": 61,
   "id": "7d250795",
   "metadata": {
    "id": "7d250795"
   },
   "outputs": [],
   "source": [
    "df.drop(['Nama'],axis=1,inplace=True)"
   ]
  },
  {
   "cell_type": "markdown",
   "id": "F7CufgYXPP91",
   "metadata": {
    "id": "F7CufgYXPP91"
   },
   "source": [
    "### Hapus Data Duplikat "
   ]
  },
  {
   "cell_type": "code",
   "execution_count": 62,
   "id": "4e45dbde",
   "metadata": {
    "colab": {
     "base_uri": "https://localhost:8080/"
    },
    "id": "4e45dbde",
    "outputId": "56b40a4b-eded-4925-84ff-fbd19e55e051"
   },
   "outputs": [
    {
     "data": {
      "text/plain": [
       "225"
      ]
     },
     "execution_count": 62,
     "metadata": {},
     "output_type": "execute_result"
    }
   ],
   "source": [
    "df.duplicated().sum()"
   ]
  },
  {
   "cell_type": "code",
   "execution_count": 63,
   "id": "170e0847",
   "metadata": {
    "colab": {
     "base_uri": "https://localhost:8080/",
     "height": 424
    },
    "id": "170e0847",
    "outputId": "9aa6076e-8d02-4023-f577-9e8fbde6ac85"
   },
   "outputs": [
    {
     "data": {
      "text/html": [
       "<div>\n",
       "<style scoped>\n",
       "    .dataframe tbody tr th:only-of-type {\n",
       "        vertical-align: middle;\n",
       "    }\n",
       "\n",
       "    .dataframe tbody tr th {\n",
       "        vertical-align: top;\n",
       "    }\n",
       "\n",
       "    .dataframe thead th {\n",
       "        text-align: right;\n",
       "    }\n",
       "</style>\n",
       "<table border=\"1\" class=\"dataframe\">\n",
       "  <thead>\n",
       "    <tr style=\"text-align: right;\">\n",
       "      <th></th>\n",
       "      <th>Gender</th>\n",
       "      <th>Tinggal_Dengan</th>\n",
       "      <th>Status_Kerja</th>\n",
       "      <th>Biaya</th>\n",
       "      <th>Tgl_Daftar_Kuliah</th>\n",
       "      <th>Alamat</th>\n",
       "      <th>UKM</th>\n",
       "      <th>Organisasi_Kampus</th>\n",
       "      <th>Lama_Kuliah</th>\n",
       "      <th>Fakultas</th>\n",
       "    </tr>\n",
       "  </thead>\n",
       "  <tbody>\n",
       "    <tr>\n",
       "      <th>0</th>\n",
       "      <td>Pria</td>\n",
       "      <td>Kos</td>\n",
       "      <td>Belum</td>\n",
       "      <td>Beasiswa</td>\n",
       "      <td>2008</td>\n",
       "      <td>Tangerang</td>\n",
       "      <td>UKM_3</td>\n",
       "      <td>Ya</td>\n",
       "      <td>3.5</td>\n",
       "      <td>DKV</td>\n",
       "    </tr>\n",
       "    <tr>\n",
       "      <th>1</th>\n",
       "      <td>Wanita</td>\n",
       "      <td>NaN</td>\n",
       "      <td>Belum</td>\n",
       "      <td>NaN</td>\n",
       "      <td>2009</td>\n",
       "      <td>Bekasi</td>\n",
       "      <td>UKM_2</td>\n",
       "      <td>Tidak</td>\n",
       "      <td>4.0</td>\n",
       "      <td>FIKOM</td>\n",
       "    </tr>\n",
       "    <tr>\n",
       "      <th>2</th>\n",
       "      <td>Wanita</td>\n",
       "      <td>NaN</td>\n",
       "      <td>Bekerja</td>\n",
       "      <td>Beasiswa</td>\n",
       "      <td>2008</td>\n",
       "      <td>Serang</td>\n",
       "      <td>UKM_4</td>\n",
       "      <td>Tidak</td>\n",
       "      <td>4.5</td>\n",
       "      <td>FIKOM</td>\n",
       "    </tr>\n",
       "    <tr>\n",
       "      <th>3</th>\n",
       "      <td>Wanita</td>\n",
       "      <td>Orang Tua</td>\n",
       "      <td>Belum</td>\n",
       "      <td>Beasiswa</td>\n",
       "      <td>2009</td>\n",
       "      <td>Serang</td>\n",
       "      <td>UKM_1</td>\n",
       "      <td>Tidak</td>\n",
       "      <td>5.5</td>\n",
       "      <td>DKV</td>\n",
       "    </tr>\n",
       "    <tr>\n",
       "      <th>4</th>\n",
       "      <td>Wanita</td>\n",
       "      <td>Orang Tua</td>\n",
       "      <td>Bekerja</td>\n",
       "      <td>NaN</td>\n",
       "      <td>2009</td>\n",
       "      <td>Bekasi</td>\n",
       "      <td>Tidak</td>\n",
       "      <td>Ya</td>\n",
       "      <td>6.5</td>\n",
       "      <td>DKV</td>\n",
       "    </tr>\n",
       "    <tr>\n",
       "      <th>...</th>\n",
       "      <td>...</td>\n",
       "      <td>...</td>\n",
       "      <td>...</td>\n",
       "      <td>...</td>\n",
       "      <td>...</td>\n",
       "      <td>...</td>\n",
       "      <td>...</td>\n",
       "      <td>...</td>\n",
       "      <td>...</td>\n",
       "      <td>...</td>\n",
       "    </tr>\n",
       "    <tr>\n",
       "      <th>11494</th>\n",
       "      <td>Pria</td>\n",
       "      <td>Orang Tua</td>\n",
       "      <td>Belum</td>\n",
       "      <td>Orang Tua</td>\n",
       "      <td>2009</td>\n",
       "      <td>Tangerang</td>\n",
       "      <td>UKM_3</td>\n",
       "      <td>Ya</td>\n",
       "      <td>4.5</td>\n",
       "      <td>FIKOM</td>\n",
       "    </tr>\n",
       "    <tr>\n",
       "      <th>11495</th>\n",
       "      <td>Wanita</td>\n",
       "      <td>NaN</td>\n",
       "      <td>Bekerja</td>\n",
       "      <td>Beasiswa</td>\n",
       "      <td>2008</td>\n",
       "      <td>Karawang</td>\n",
       "      <td>Tidak</td>\n",
       "      <td>Tidak</td>\n",
       "      <td>3.5</td>\n",
       "      <td>DKV</td>\n",
       "    </tr>\n",
       "    <tr>\n",
       "      <th>11496</th>\n",
       "      <td>Wanita</td>\n",
       "      <td>Kos</td>\n",
       "      <td>Bekerja</td>\n",
       "      <td>Beasiswa</td>\n",
       "      <td>2007</td>\n",
       "      <td>Bogor</td>\n",
       "      <td>UKM_2</td>\n",
       "      <td>Ya</td>\n",
       "      <td>5.0</td>\n",
       "      <td>FT</td>\n",
       "    </tr>\n",
       "    <tr>\n",
       "      <th>11497</th>\n",
       "      <td>Wanita</td>\n",
       "      <td>Kos</td>\n",
       "      <td>Bekerja</td>\n",
       "      <td>NaN</td>\n",
       "      <td>2007</td>\n",
       "      <td>Karawang</td>\n",
       "      <td>UKM_4</td>\n",
       "      <td>Tidak</td>\n",
       "      <td>4.5</td>\n",
       "      <td>DKV</td>\n",
       "    </tr>\n",
       "    <tr>\n",
       "      <th>11498</th>\n",
       "      <td>Wanita</td>\n",
       "      <td>Kos</td>\n",
       "      <td>Belum</td>\n",
       "      <td>NaN</td>\n",
       "      <td>2008</td>\n",
       "      <td>Bekasi</td>\n",
       "      <td>UKM_2</td>\n",
       "      <td>Ya</td>\n",
       "      <td>4.5</td>\n",
       "      <td>FIKOM</td>\n",
       "    </tr>\n",
       "  </tbody>\n",
       "</table>\n",
       "<p>11274 rows × 10 columns</p>\n",
       "</div>"
      ],
      "text/plain": [
       "       Gender Tinggal_Dengan Status_Kerja      Biaya Tgl_Daftar_Kuliah  \\\n",
       "0        Pria            Kos        Belum   Beasiswa              2008   \n",
       "1      Wanita            NaN        Belum        NaN              2009   \n",
       "2      Wanita            NaN      Bekerja   Beasiswa              2008   \n",
       "3      Wanita      Orang Tua        Belum   Beasiswa              2009   \n",
       "4      Wanita      Orang Tua      Bekerja        NaN              2009   \n",
       "...       ...            ...          ...        ...               ...   \n",
       "11494    Pria      Orang Tua        Belum  Orang Tua              2009   \n",
       "11495  Wanita            NaN      Bekerja   Beasiswa              2008   \n",
       "11496  Wanita            Kos      Bekerja   Beasiswa              2007   \n",
       "11497  Wanita            Kos      Bekerja        NaN              2007   \n",
       "11498  Wanita            Kos        Belum        NaN              2008   \n",
       "\n",
       "          Alamat    UKM Organisasi_Kampus Lama_Kuliah Fakultas  \n",
       "0      Tangerang  UKM_3                Ya         3.5      DKV  \n",
       "1         Bekasi  UKM_2             Tidak         4.0    FIKOM  \n",
       "2         Serang  UKM_4             Tidak         4.5    FIKOM  \n",
       "3         Serang  UKM_1             Tidak         5.5      DKV  \n",
       "4         Bekasi  Tidak                Ya         6.5      DKV  \n",
       "...          ...    ...               ...         ...      ...  \n",
       "11494  Tangerang  UKM_3                Ya         4.5    FIKOM  \n",
       "11495   Karawang  Tidak             Tidak         3.5      DKV  \n",
       "11496      Bogor  UKM_2                Ya         5.0       FT  \n",
       "11497   Karawang  UKM_4             Tidak         4.5      DKV  \n",
       "11498     Bekasi  UKM_2                Ya         4.5    FIKOM  \n",
       "\n",
       "[11274 rows x 10 columns]"
      ]
     },
     "execution_count": 63,
     "metadata": {},
     "output_type": "execute_result"
    }
   ],
   "source": [
    "df.drop_duplicates(inplace=True)\n",
    "df"
   ]
  },
  {
   "cell_type": "code",
   "execution_count": 64,
   "id": "fb3c5afa",
   "metadata": {
    "colab": {
     "base_uri": "https://localhost:8080/",
     "height": 363
    },
    "id": "fb3c5afa",
    "outputId": "96a73ccb-6033-4bce-aafe-76bbdd149d09"
   },
   "outputs": [
    {
     "data": {
      "text/html": [
       "<div>\n",
       "<style scoped>\n",
       "    .dataframe tbody tr th:only-of-type {\n",
       "        vertical-align: middle;\n",
       "    }\n",
       "\n",
       "    .dataframe tbody tr th {\n",
       "        vertical-align: top;\n",
       "    }\n",
       "\n",
       "    .dataframe thead th {\n",
       "        text-align: right;\n",
       "    }\n",
       "</style>\n",
       "<table border=\"1\" class=\"dataframe\">\n",
       "  <thead>\n",
       "    <tr style=\"text-align: right;\">\n",
       "      <th></th>\n",
       "      <th>column</th>\n",
       "      <th>values</th>\n",
       "      <th>values_count_incna</th>\n",
       "      <th>values_count_nona</th>\n",
       "      <th>num_miss</th>\n",
       "      <th>pct_miss</th>\n",
       "    </tr>\n",
       "  </thead>\n",
       "  <tbody>\n",
       "    <tr>\n",
       "      <th>0</th>\n",
       "      <td>Gender</td>\n",
       "      <td>[Pria, Wanita]</td>\n",
       "      <td>2</td>\n",
       "      <td>2</td>\n",
       "      <td>0</td>\n",
       "      <td>0.0</td>\n",
       "    </tr>\n",
       "    <tr>\n",
       "      <th>0</th>\n",
       "      <td>Tinggal_Dengan</td>\n",
       "      <td>[Kos, nan, Orang Tua]</td>\n",
       "      <td>3</td>\n",
       "      <td>2</td>\n",
       "      <td>3896</td>\n",
       "      <td>34.6</td>\n",
       "    </tr>\n",
       "    <tr>\n",
       "      <th>0</th>\n",
       "      <td>Status_Kerja</td>\n",
       "      <td>[Belum, Bekerja]</td>\n",
       "      <td>2</td>\n",
       "      <td>2</td>\n",
       "      <td>0</td>\n",
       "      <td>0.0</td>\n",
       "    </tr>\n",
       "    <tr>\n",
       "      <th>0</th>\n",
       "      <td>Biaya</td>\n",
       "      <td>[Beasiswa, nan, Orang Tua]</td>\n",
       "      <td>3</td>\n",
       "      <td>2</td>\n",
       "      <td>3711</td>\n",
       "      <td>32.9</td>\n",
       "    </tr>\n",
       "    <tr>\n",
       "      <th>0</th>\n",
       "      <td>Tgl_Daftar_Kuliah</td>\n",
       "      <td>[2008, 2009, 2007]</td>\n",
       "      <td>3</td>\n",
       "      <td>3</td>\n",
       "      <td>0</td>\n",
       "      <td>0.0</td>\n",
       "    </tr>\n",
       "    <tr>\n",
       "      <th>0</th>\n",
       "      <td>Alamat</td>\n",
       "      <td>[Tangerang, Bekasi, Serang, Bogor, Jakarta, Ka...</td>\n",
       "      <td>6</td>\n",
       "      <td>6</td>\n",
       "      <td>0</td>\n",
       "      <td>0.0</td>\n",
       "    </tr>\n",
       "    <tr>\n",
       "      <th>0</th>\n",
       "      <td>UKM</td>\n",
       "      <td>[UKM_3, UKM_2, UKM_4, UKM_1, Tidak]</td>\n",
       "      <td>5</td>\n",
       "      <td>5</td>\n",
       "      <td>0</td>\n",
       "      <td>0.0</td>\n",
       "    </tr>\n",
       "    <tr>\n",
       "      <th>0</th>\n",
       "      <td>Organisasi_Kampus</td>\n",
       "      <td>[Ya, Tidak]</td>\n",
       "      <td>2</td>\n",
       "      <td>2</td>\n",
       "      <td>0</td>\n",
       "      <td>0.0</td>\n",
       "    </tr>\n",
       "    <tr>\n",
       "      <th>0</th>\n",
       "      <td>Lama_Kuliah</td>\n",
       "      <td>[3.5, 4.0, 4.5, 5.5, 6.5, 5.0, 6.0, 7.0]</td>\n",
       "      <td>8</td>\n",
       "      <td>8</td>\n",
       "      <td>0</td>\n",
       "      <td>0.0</td>\n",
       "    </tr>\n",
       "    <tr>\n",
       "      <th>0</th>\n",
       "      <td>Fakultas</td>\n",
       "      <td>[DKV, FIKOM, FISIP, FTI, FT]</td>\n",
       "      <td>5</td>\n",
       "      <td>5</td>\n",
       "      <td>0</td>\n",
       "      <td>0.0</td>\n",
       "    </tr>\n",
       "  </tbody>\n",
       "</table>\n",
       "</div>"
      ],
      "text/plain": [
       "              column                                             values  \\\n",
       "0             Gender                                     [Pria, Wanita]   \n",
       "0     Tinggal_Dengan                              [Kos, nan, Orang Tua]   \n",
       "0       Status_Kerja                                   [Belum, Bekerja]   \n",
       "0              Biaya                         [Beasiswa, nan, Orang Tua]   \n",
       "0  Tgl_Daftar_Kuliah                                 [2008, 2009, 2007]   \n",
       "0             Alamat  [Tangerang, Bekasi, Serang, Bogor, Jakarta, Ka...   \n",
       "0                UKM                [UKM_3, UKM_2, UKM_4, UKM_1, Tidak]   \n",
       "0  Organisasi_Kampus                                        [Ya, Tidak]   \n",
       "0        Lama_Kuliah           [3.5, 4.0, 4.5, 5.5, 6.5, 5.0, 6.0, 7.0]   \n",
       "0           Fakultas                       [DKV, FIKOM, FISIP, FTI, FT]   \n",
       "\n",
       "  values_count_incna values_count_nona num_miss pct_miss  \n",
       "0                  2                 2        0      0.0  \n",
       "0                  3                 2     3896     34.6  \n",
       "0                  2                 2        0      0.0  \n",
       "0                  3                 2     3711     32.9  \n",
       "0                  3                 3        0      0.0  \n",
       "0                  6                 6        0      0.0  \n",
       "0                  5                 5        0      0.0  \n",
       "0                  2                 2        0      0.0  \n",
       "0                  8                 8        0      0.0  \n",
       "0                  5                 5        0      0.0  "
      ]
     },
     "execution_count": 64,
     "metadata": {},
     "output_type": "execute_result"
    }
   ],
   "source": [
    "ds_cat_stats = pd.DataFrame(columns = ['column', 'values', 'values_count_incna', 'values_count_nona', \n",
    "                                       'num_miss', 'pct_miss'])\n",
    "tmp = pd.DataFrame()\n",
    "\n",
    "for c in df.columns:\n",
    "    tmp['column'] = [c]\n",
    "    tmp['values'] = [df[c].unique()]\n",
    "    tmp['values_count_incna'] = len(list(df[c].unique()))\n",
    "    tmp['values_count_nona'] = int(df[c].nunique())\n",
    "    tmp['num_miss'] = df[c].isnull().sum()\n",
    "    tmp['pct_miss'] = (df[c].isnull().sum()/ len(df)).round(3)*100\n",
    "    ds_cat_stats = ds_cat_stats.append(tmp)\n",
    "    \n",
    "ds_cat_stats"
   ]
  },
  {
   "cell_type": "markdown",
   "id": "BevRYoU3jGbt",
   "metadata": {
    "id": "BevRYoU3jGbt"
   },
   "source": [
    "Persentase missing values pada variabel Biaya dan Tinggal_Dengan besarnya sekitar 30% dari data seluruhnya."
   ]
  },
  {
   "cell_type": "code",
   "execution_count": 65,
   "id": "5d23f143",
   "metadata": {
    "colab": {
     "base_uri": "https://localhost:8080/",
     "height": 363
    },
    "id": "5d23f143",
    "outputId": "2a1284ae-0185-4ce7-a8cc-55318cd8d742"
   },
   "outputs": [
    {
     "data": {
      "text/html": [
       "<div>\n",
       "<style scoped>\n",
       "    .dataframe tbody tr th:only-of-type {\n",
       "        vertical-align: middle;\n",
       "    }\n",
       "\n",
       "    .dataframe tbody tr th {\n",
       "        vertical-align: top;\n",
       "    }\n",
       "\n",
       "    .dataframe thead th {\n",
       "        text-align: right;\n",
       "    }\n",
       "</style>\n",
       "<table border=\"1\" class=\"dataframe\">\n",
       "  <thead>\n",
       "    <tr style=\"text-align: right;\">\n",
       "      <th></th>\n",
       "      <th>column</th>\n",
       "      <th>values</th>\n",
       "      <th>values_count_incna</th>\n",
       "      <th>values_count_nona</th>\n",
       "      <th>num_miss</th>\n",
       "      <th>pct_miss</th>\n",
       "    </tr>\n",
       "  </thead>\n",
       "  <tbody>\n",
       "    <tr>\n",
       "      <th>0</th>\n",
       "      <td>Gender</td>\n",
       "      <td>[Pria, Wanita]</td>\n",
       "      <td>2</td>\n",
       "      <td>2</td>\n",
       "      <td>0</td>\n",
       "      <td>0.0</td>\n",
       "    </tr>\n",
       "    <tr>\n",
       "      <th>0</th>\n",
       "      <td>Tinggal_Dengan</td>\n",
       "      <td>[Kos, Unknown, Orang Tua]</td>\n",
       "      <td>3</td>\n",
       "      <td>3</td>\n",
       "      <td>0</td>\n",
       "      <td>0.0</td>\n",
       "    </tr>\n",
       "    <tr>\n",
       "      <th>0</th>\n",
       "      <td>Status_Kerja</td>\n",
       "      <td>[Belum, Bekerja]</td>\n",
       "      <td>2</td>\n",
       "      <td>2</td>\n",
       "      <td>0</td>\n",
       "      <td>0.0</td>\n",
       "    </tr>\n",
       "    <tr>\n",
       "      <th>0</th>\n",
       "      <td>Biaya</td>\n",
       "      <td>[Beasiswa, Unknown, Orang Tua]</td>\n",
       "      <td>3</td>\n",
       "      <td>3</td>\n",
       "      <td>0</td>\n",
       "      <td>0.0</td>\n",
       "    </tr>\n",
       "    <tr>\n",
       "      <th>0</th>\n",
       "      <td>Tgl_Daftar_Kuliah</td>\n",
       "      <td>[2008, 2009, 2007]</td>\n",
       "      <td>3</td>\n",
       "      <td>3</td>\n",
       "      <td>0</td>\n",
       "      <td>0.0</td>\n",
       "    </tr>\n",
       "    <tr>\n",
       "      <th>0</th>\n",
       "      <td>Alamat</td>\n",
       "      <td>[Tangerang, Bekasi, Serang, Bogor, Jakarta, Ka...</td>\n",
       "      <td>6</td>\n",
       "      <td>6</td>\n",
       "      <td>0</td>\n",
       "      <td>0.0</td>\n",
       "    </tr>\n",
       "    <tr>\n",
       "      <th>0</th>\n",
       "      <td>UKM</td>\n",
       "      <td>[UKM_3, UKM_2, UKM_4, UKM_1, Tidak]</td>\n",
       "      <td>5</td>\n",
       "      <td>5</td>\n",
       "      <td>0</td>\n",
       "      <td>0.0</td>\n",
       "    </tr>\n",
       "    <tr>\n",
       "      <th>0</th>\n",
       "      <td>Organisasi_Kampus</td>\n",
       "      <td>[Ya, Tidak]</td>\n",
       "      <td>2</td>\n",
       "      <td>2</td>\n",
       "      <td>0</td>\n",
       "      <td>0.0</td>\n",
       "    </tr>\n",
       "    <tr>\n",
       "      <th>0</th>\n",
       "      <td>Lama_Kuliah</td>\n",
       "      <td>[3.5, 4.0, 4.5, 5.5, 6.5, 5.0, 6.0, 7.0]</td>\n",
       "      <td>8</td>\n",
       "      <td>8</td>\n",
       "      <td>0</td>\n",
       "      <td>0.0</td>\n",
       "    </tr>\n",
       "    <tr>\n",
       "      <th>0</th>\n",
       "      <td>Fakultas</td>\n",
       "      <td>[DKV, FIKOM, FISIP, FTI, FT]</td>\n",
       "      <td>5</td>\n",
       "      <td>5</td>\n",
       "      <td>0</td>\n",
       "      <td>0.0</td>\n",
       "    </tr>\n",
       "  </tbody>\n",
       "</table>\n",
       "</div>"
      ],
      "text/plain": [
       "              column                                             values  \\\n",
       "0             Gender                                     [Pria, Wanita]   \n",
       "0     Tinggal_Dengan                          [Kos, Unknown, Orang Tua]   \n",
       "0       Status_Kerja                                   [Belum, Bekerja]   \n",
       "0              Biaya                     [Beasiswa, Unknown, Orang Tua]   \n",
       "0  Tgl_Daftar_Kuliah                                 [2008, 2009, 2007]   \n",
       "0             Alamat  [Tangerang, Bekasi, Serang, Bogor, Jakarta, Ka...   \n",
       "0                UKM                [UKM_3, UKM_2, UKM_4, UKM_1, Tidak]   \n",
       "0  Organisasi_Kampus                                        [Ya, Tidak]   \n",
       "0        Lama_Kuliah           [3.5, 4.0, 4.5, 5.5, 6.5, 5.0, 6.0, 7.0]   \n",
       "0           Fakultas                       [DKV, FIKOM, FISIP, FTI, FT]   \n",
       "\n",
       "  values_count_incna values_count_nona num_miss pct_miss  \n",
       "0                  2                 2        0      0.0  \n",
       "0                  3                 3        0      0.0  \n",
       "0                  2                 2        0      0.0  \n",
       "0                  3                 3        0      0.0  \n",
       "0                  3                 3        0      0.0  \n",
       "0                  6                 6        0      0.0  \n",
       "0                  5                 5        0      0.0  \n",
       "0                  2                 2        0      0.0  \n",
       "0                  8                 8        0      0.0  \n",
       "0                  5                 5        0      0.0  "
      ]
     },
     "execution_count": 65,
     "metadata": {},
     "output_type": "execute_result"
    }
   ],
   "source": [
    "df2 = df.copy()\n",
    "df2['Tinggal_Dengan'] = df2['Tinggal_Dengan'].fillna(\"Unknown\")\n",
    "df2['Biaya'] = df2['Biaya'].fillna(\"Unknown\")\n",
    "\n",
    "ds_cat_stats = pd.DataFrame(columns = ['column', 'values', 'values_count_incna', 'values_count_nona', \n",
    "                                       'num_miss', 'pct_miss'])\n",
    "tmp = pd.DataFrame()\n",
    "\n",
    "for c in df.columns:\n",
    "    tmp['column'] = [c]\n",
    "    tmp['values'] = [df2[c].unique()]\n",
    "    tmp['values_count_incna'] = len(list(df2[c].unique()))\n",
    "    tmp['values_count_nona'] = int(df2[c].nunique())\n",
    "    tmp['num_miss'] = df2[c].isnull().sum()\n",
    "    tmp['pct_miss'] = (df2[c].isnull().sum()/ len(df2)).round(3)*100\n",
    "    ds_cat_stats = ds_cat_stats.append(tmp)\n",
    "    \n",
    "ds_cat_stats"
   ]
  },
  {
   "cell_type": "markdown",
   "id": "81462b1f",
   "metadata": {},
   "source": [
    "Missing values akan diimputasi dengan kata 'Unknown'."
   ]
  },
  {
   "cell_type": "code",
   "execution_count": 66,
   "id": "b8958ce1",
   "metadata": {
    "colab": {
     "base_uri": "https://localhost:8080/",
     "height": 206
    },
    "id": "b8958ce1",
    "outputId": "af3c60a3-e603-4edc-e4be-94d2fe406c47"
   },
   "outputs": [
    {
     "data": {
      "text/html": [
       "<div>\n",
       "<style scoped>\n",
       "    .dataframe tbody tr th:only-of-type {\n",
       "        vertical-align: middle;\n",
       "    }\n",
       "\n",
       "    .dataframe tbody tr th {\n",
       "        vertical-align: top;\n",
       "    }\n",
       "\n",
       "    .dataframe thead th {\n",
       "        text-align: right;\n",
       "    }\n",
       "</style>\n",
       "<table border=\"1\" class=\"dataframe\">\n",
       "  <thead>\n",
       "    <tr style=\"text-align: right;\">\n",
       "      <th></th>\n",
       "      <th>Gender</th>\n",
       "      <th>Tinggal_Dengan</th>\n",
       "      <th>Status_Kerja</th>\n",
       "      <th>Biaya</th>\n",
       "      <th>Tgl_Daftar_Kuliah</th>\n",
       "      <th>Alamat</th>\n",
       "      <th>UKM</th>\n",
       "      <th>Organisasi_Kampus</th>\n",
       "      <th>Lama_Kuliah</th>\n",
       "      <th>Fakultas</th>\n",
       "    </tr>\n",
       "  </thead>\n",
       "  <tbody>\n",
       "    <tr>\n",
       "      <th>0</th>\n",
       "      <td>Pria</td>\n",
       "      <td>Kos</td>\n",
       "      <td>Belum</td>\n",
       "      <td>Beasiswa</td>\n",
       "      <td>2008</td>\n",
       "      <td>Tangerang</td>\n",
       "      <td>UKM_3</td>\n",
       "      <td>Ya</td>\n",
       "      <td>3.5</td>\n",
       "      <td>DKV</td>\n",
       "    </tr>\n",
       "    <tr>\n",
       "      <th>1</th>\n",
       "      <td>Wanita</td>\n",
       "      <td>Unknown</td>\n",
       "      <td>Belum</td>\n",
       "      <td>Unknown</td>\n",
       "      <td>2009</td>\n",
       "      <td>Bekasi</td>\n",
       "      <td>UKM_2</td>\n",
       "      <td>Tidak</td>\n",
       "      <td>4.0</td>\n",
       "      <td>FIKOM</td>\n",
       "    </tr>\n",
       "    <tr>\n",
       "      <th>2</th>\n",
       "      <td>Wanita</td>\n",
       "      <td>Unknown</td>\n",
       "      <td>Bekerja</td>\n",
       "      <td>Beasiswa</td>\n",
       "      <td>2008</td>\n",
       "      <td>Serang</td>\n",
       "      <td>UKM_4</td>\n",
       "      <td>Tidak</td>\n",
       "      <td>4.5</td>\n",
       "      <td>FIKOM</td>\n",
       "    </tr>\n",
       "    <tr>\n",
       "      <th>3</th>\n",
       "      <td>Wanita</td>\n",
       "      <td>Orang Tua</td>\n",
       "      <td>Belum</td>\n",
       "      <td>Beasiswa</td>\n",
       "      <td>2009</td>\n",
       "      <td>Serang</td>\n",
       "      <td>UKM_1</td>\n",
       "      <td>Tidak</td>\n",
       "      <td>5.5</td>\n",
       "      <td>DKV</td>\n",
       "    </tr>\n",
       "    <tr>\n",
       "      <th>4</th>\n",
       "      <td>Wanita</td>\n",
       "      <td>Orang Tua</td>\n",
       "      <td>Bekerja</td>\n",
       "      <td>Unknown</td>\n",
       "      <td>2009</td>\n",
       "      <td>Bekasi</td>\n",
       "      <td>Tidak</td>\n",
       "      <td>Ya</td>\n",
       "      <td>6.5</td>\n",
       "      <td>DKV</td>\n",
       "    </tr>\n",
       "    <tr>\n",
       "      <th>...</th>\n",
       "      <td>...</td>\n",
       "      <td>...</td>\n",
       "      <td>...</td>\n",
       "      <td>...</td>\n",
       "      <td>...</td>\n",
       "      <td>...</td>\n",
       "      <td>...</td>\n",
       "      <td>...</td>\n",
       "      <td>...</td>\n",
       "      <td>...</td>\n",
       "    </tr>\n",
       "    <tr>\n",
       "      <th>11494</th>\n",
       "      <td>Pria</td>\n",
       "      <td>Orang Tua</td>\n",
       "      <td>Belum</td>\n",
       "      <td>Orang Tua</td>\n",
       "      <td>2009</td>\n",
       "      <td>Tangerang</td>\n",
       "      <td>UKM_3</td>\n",
       "      <td>Ya</td>\n",
       "      <td>4.5</td>\n",
       "      <td>FIKOM</td>\n",
       "    </tr>\n",
       "    <tr>\n",
       "      <th>11495</th>\n",
       "      <td>Wanita</td>\n",
       "      <td>Unknown</td>\n",
       "      <td>Bekerja</td>\n",
       "      <td>Beasiswa</td>\n",
       "      <td>2008</td>\n",
       "      <td>Karawang</td>\n",
       "      <td>Tidak</td>\n",
       "      <td>Tidak</td>\n",
       "      <td>3.5</td>\n",
       "      <td>DKV</td>\n",
       "    </tr>\n",
       "    <tr>\n",
       "      <th>11496</th>\n",
       "      <td>Wanita</td>\n",
       "      <td>Kos</td>\n",
       "      <td>Bekerja</td>\n",
       "      <td>Beasiswa</td>\n",
       "      <td>2007</td>\n",
       "      <td>Bogor</td>\n",
       "      <td>UKM_2</td>\n",
       "      <td>Ya</td>\n",
       "      <td>5.0</td>\n",
       "      <td>FT</td>\n",
       "    </tr>\n",
       "    <tr>\n",
       "      <th>11497</th>\n",
       "      <td>Wanita</td>\n",
       "      <td>Kos</td>\n",
       "      <td>Bekerja</td>\n",
       "      <td>Unknown</td>\n",
       "      <td>2007</td>\n",
       "      <td>Karawang</td>\n",
       "      <td>UKM_4</td>\n",
       "      <td>Tidak</td>\n",
       "      <td>4.5</td>\n",
       "      <td>DKV</td>\n",
       "    </tr>\n",
       "    <tr>\n",
       "      <th>11498</th>\n",
       "      <td>Wanita</td>\n",
       "      <td>Kos</td>\n",
       "      <td>Belum</td>\n",
       "      <td>Unknown</td>\n",
       "      <td>2008</td>\n",
       "      <td>Bekasi</td>\n",
       "      <td>UKM_2</td>\n",
       "      <td>Ya</td>\n",
       "      <td>4.5</td>\n",
       "      <td>FIKOM</td>\n",
       "    </tr>\n",
       "  </tbody>\n",
       "</table>\n",
       "<p>11274 rows × 10 columns</p>\n",
       "</div>"
      ],
      "text/plain": [
       "       Gender Tinggal_Dengan Status_Kerja      Biaya Tgl_Daftar_Kuliah  \\\n",
       "0        Pria            Kos        Belum   Beasiswa              2008   \n",
       "1      Wanita        Unknown        Belum    Unknown              2009   \n",
       "2      Wanita        Unknown      Bekerja   Beasiswa              2008   \n",
       "3      Wanita      Orang Tua        Belum   Beasiswa              2009   \n",
       "4      Wanita      Orang Tua      Bekerja    Unknown              2009   \n",
       "...       ...            ...          ...        ...               ...   \n",
       "11494    Pria      Orang Tua        Belum  Orang Tua              2009   \n",
       "11495  Wanita        Unknown      Bekerja   Beasiswa              2008   \n",
       "11496  Wanita            Kos      Bekerja   Beasiswa              2007   \n",
       "11497  Wanita            Kos      Bekerja    Unknown              2007   \n",
       "11498  Wanita            Kos        Belum    Unknown              2008   \n",
       "\n",
       "          Alamat    UKM Organisasi_Kampus Lama_Kuliah Fakultas  \n",
       "0      Tangerang  UKM_3                Ya         3.5      DKV  \n",
       "1         Bekasi  UKM_2             Tidak         4.0    FIKOM  \n",
       "2         Serang  UKM_4             Tidak         4.5    FIKOM  \n",
       "3         Serang  UKM_1             Tidak         5.5      DKV  \n",
       "4         Bekasi  Tidak                Ya         6.5      DKV  \n",
       "...          ...    ...               ...         ...      ...  \n",
       "11494  Tangerang  UKM_3                Ya         4.5    FIKOM  \n",
       "11495   Karawang  Tidak             Tidak         3.5      DKV  \n",
       "11496      Bogor  UKM_2                Ya         5.0       FT  \n",
       "11497   Karawang  UKM_4             Tidak         4.5      DKV  \n",
       "11498     Bekasi  UKM_2                Ya         4.5    FIKOM  \n",
       "\n",
       "[11274 rows x 10 columns]"
      ]
     },
     "execution_count": 66,
     "metadata": {},
     "output_type": "execute_result"
    }
   ],
   "source": [
    "# hapus data duplikasi pada df2\n",
    "df2.drop_duplicates(inplace=True)\n",
    "df2"
   ]
  },
  {
   "cell_type": "markdown",
   "id": "A5Yd0L-jI9vm",
   "metadata": {
    "id": "A5Yd0L-jI9vm"
   },
   "source": [
    "## 4. Data Pre-processing"
   ]
  },
  {
   "cell_type": "markdown",
   "id": "NLr5GxCuJRxX",
   "metadata": {
    "id": "NLr5GxCuJRxX"
   },
   "source": [
    "### Label Encoding"
   ]
  },
  {
   "cell_type": "code",
   "execution_count": 67,
   "id": "5659795a",
   "metadata": {},
   "outputs": [
    {
     "data": {
      "text/html": [
       "<div>\n",
       "<style scoped>\n",
       "    .dataframe tbody tr th:only-of-type {\n",
       "        vertical-align: middle;\n",
       "    }\n",
       "\n",
       "    .dataframe tbody tr th {\n",
       "        vertical-align: top;\n",
       "    }\n",
       "\n",
       "    .dataframe thead th {\n",
       "        text-align: right;\n",
       "    }\n",
       "</style>\n",
       "<table border=\"1\" class=\"dataframe\">\n",
       "  <thead>\n",
       "    <tr style=\"text-align: right;\">\n",
       "      <th></th>\n",
       "      <th>Gender</th>\n",
       "      <th>Tinggal_Dengan</th>\n",
       "      <th>Status_Kerja</th>\n",
       "      <th>Biaya</th>\n",
       "      <th>Tgl_Daftar_Kuliah</th>\n",
       "      <th>Alamat</th>\n",
       "      <th>UKM</th>\n",
       "      <th>Organisasi_Kampus</th>\n",
       "      <th>Lama_Kuliah</th>\n",
       "      <th>Fakultas</th>\n",
       "    </tr>\n",
       "  </thead>\n",
       "  <tbody>\n",
       "    <tr>\n",
       "      <th>0</th>\n",
       "      <td>0</td>\n",
       "      <td>0</td>\n",
       "      <td>1</td>\n",
       "      <td>0</td>\n",
       "      <td>1</td>\n",
       "      <td>5</td>\n",
       "      <td>3</td>\n",
       "      <td>1</td>\n",
       "      <td>0</td>\n",
       "      <td>0</td>\n",
       "    </tr>\n",
       "    <tr>\n",
       "      <th>1</th>\n",
       "      <td>1</td>\n",
       "      <td>2</td>\n",
       "      <td>1</td>\n",
       "      <td>2</td>\n",
       "      <td>2</td>\n",
       "      <td>0</td>\n",
       "      <td>2</td>\n",
       "      <td>0</td>\n",
       "      <td>1</td>\n",
       "      <td>1</td>\n",
       "    </tr>\n",
       "    <tr>\n",
       "      <th>2</th>\n",
       "      <td>1</td>\n",
       "      <td>2</td>\n",
       "      <td>0</td>\n",
       "      <td>0</td>\n",
       "      <td>1</td>\n",
       "      <td>4</td>\n",
       "      <td>4</td>\n",
       "      <td>0</td>\n",
       "      <td>2</td>\n",
       "      <td>1</td>\n",
       "    </tr>\n",
       "    <tr>\n",
       "      <th>3</th>\n",
       "      <td>1</td>\n",
       "      <td>1</td>\n",
       "      <td>1</td>\n",
       "      <td>0</td>\n",
       "      <td>2</td>\n",
       "      <td>4</td>\n",
       "      <td>1</td>\n",
       "      <td>0</td>\n",
       "      <td>4</td>\n",
       "      <td>0</td>\n",
       "    </tr>\n",
       "    <tr>\n",
       "      <th>4</th>\n",
       "      <td>1</td>\n",
       "      <td>1</td>\n",
       "      <td>0</td>\n",
       "      <td>2</td>\n",
       "      <td>2</td>\n",
       "      <td>0</td>\n",
       "      <td>0</td>\n",
       "      <td>1</td>\n",
       "      <td>6</td>\n",
       "      <td>0</td>\n",
       "    </tr>\n",
       "    <tr>\n",
       "      <th>...</th>\n",
       "      <td>...</td>\n",
       "      <td>...</td>\n",
       "      <td>...</td>\n",
       "      <td>...</td>\n",
       "      <td>...</td>\n",
       "      <td>...</td>\n",
       "      <td>...</td>\n",
       "      <td>...</td>\n",
       "      <td>...</td>\n",
       "      <td>...</td>\n",
       "    </tr>\n",
       "    <tr>\n",
       "      <th>11494</th>\n",
       "      <td>0</td>\n",
       "      <td>1</td>\n",
       "      <td>1</td>\n",
       "      <td>1</td>\n",
       "      <td>2</td>\n",
       "      <td>5</td>\n",
       "      <td>3</td>\n",
       "      <td>1</td>\n",
       "      <td>2</td>\n",
       "      <td>1</td>\n",
       "    </tr>\n",
       "    <tr>\n",
       "      <th>11495</th>\n",
       "      <td>1</td>\n",
       "      <td>2</td>\n",
       "      <td>0</td>\n",
       "      <td>0</td>\n",
       "      <td>1</td>\n",
       "      <td>3</td>\n",
       "      <td>0</td>\n",
       "      <td>0</td>\n",
       "      <td>0</td>\n",
       "      <td>0</td>\n",
       "    </tr>\n",
       "    <tr>\n",
       "      <th>11496</th>\n",
       "      <td>1</td>\n",
       "      <td>0</td>\n",
       "      <td>0</td>\n",
       "      <td>0</td>\n",
       "      <td>0</td>\n",
       "      <td>1</td>\n",
       "      <td>2</td>\n",
       "      <td>1</td>\n",
       "      <td>3</td>\n",
       "      <td>3</td>\n",
       "    </tr>\n",
       "    <tr>\n",
       "      <th>11497</th>\n",
       "      <td>1</td>\n",
       "      <td>0</td>\n",
       "      <td>0</td>\n",
       "      <td>2</td>\n",
       "      <td>0</td>\n",
       "      <td>3</td>\n",
       "      <td>4</td>\n",
       "      <td>0</td>\n",
       "      <td>2</td>\n",
       "      <td>0</td>\n",
       "    </tr>\n",
       "    <tr>\n",
       "      <th>11498</th>\n",
       "      <td>1</td>\n",
       "      <td>0</td>\n",
       "      <td>1</td>\n",
       "      <td>2</td>\n",
       "      <td>1</td>\n",
       "      <td>0</td>\n",
       "      <td>2</td>\n",
       "      <td>1</td>\n",
       "      <td>2</td>\n",
       "      <td>1</td>\n",
       "    </tr>\n",
       "  </tbody>\n",
       "</table>\n",
       "<p>11274 rows × 10 columns</p>\n",
       "</div>"
      ],
      "text/plain": [
       "       Gender  Tinggal_Dengan  Status_Kerja  Biaya  Tgl_Daftar_Kuliah  Alamat  \\\n",
       "0           0               0             1      0                  1       5   \n",
       "1           1               2             1      2                  2       0   \n",
       "2           1               2             0      0                  1       4   \n",
       "3           1               1             1      0                  2       4   \n",
       "4           1               1             0      2                  2       0   \n",
       "...       ...             ...           ...    ...                ...     ...   \n",
       "11494       0               1             1      1                  2       5   \n",
       "11495       1               2             0      0                  1       3   \n",
       "11496       1               0             0      0                  0       1   \n",
       "11497       1               0             0      2                  0       3   \n",
       "11498       1               0             1      2                  1       0   \n",
       "\n",
       "       UKM  Organisasi_Kampus  Lama_Kuliah  Fakultas  \n",
       "0        3                  1            0         0  \n",
       "1        2                  0            1         1  \n",
       "2        4                  0            2         1  \n",
       "3        1                  0            4         0  \n",
       "4        0                  1            6         0  \n",
       "...    ...                ...          ...       ...  \n",
       "11494    3                  1            2         1  \n",
       "11495    0                  0            0         0  \n",
       "11496    2                  1            3         3  \n",
       "11497    4                  0            2         0  \n",
       "11498    2                  1            2         1  \n",
       "\n",
       "[11274 rows x 10 columns]"
      ]
     },
     "execution_count": 67,
     "metadata": {},
     "output_type": "execute_result"
    }
   ],
   "source": [
    "from sklearn.preprocessing import LabelEncoder\n",
    "\n",
    "lists = ['Gender','Tinggal_Dengan','Status_Kerja','Biaya','Tgl_Daftar_Kuliah','Alamat','UKM','Organisasi_Kampus','Lama_Kuliah','Fakultas']\n",
    "df3 = df2.copy()\n",
    "\n",
    "label_encoder = LabelEncoder()\n",
    "for i in lists:\n",
    "    df3[i] = label_encoder.fit_transform(df2[i])\n",
    "df3"
   ]
  },
  {
   "cell_type": "markdown",
   "id": "qWu-QT-wRDGI",
   "metadata": {
    "id": "qWu-QT-wRDGI"
   },
   "source": [
    "## 5. Clustering"
   ]
  },
  {
   "cell_type": "markdown",
   "id": "7tTI-hrEJw_E",
   "metadata": {
    "id": "7tTI-hrEJw_E"
   },
   "source": [
    "### Menerapkan Algoritma K-Modes"
   ]
  },
  {
   "cell_type": "code",
   "execution_count": 69,
   "id": "404245c4",
   "metadata": {
    "colab": {
     "base_uri": "https://localhost:8080/"
    },
    "id": "404245c4",
    "outputId": "558f5d8a-61f8-4a57-ba74-ecc82eb3e6bd"
   },
   "outputs": [
    {
     "name": "stdout",
     "output_type": "stream",
     "text": [
      "Init: initializing centroids\n",
      "Init: initializing clusters\n",
      "Starting iterations...\n",
      "Run 1, iteration: 1/100, moves: 0, cost: 65191.0\n"
     ]
    }
   ],
   "source": [
    "from kmodes.kmodes import KModes\n",
    "\n",
    "km_cao = KModes(n_clusters=2, init = \"Cao\", n_init = 1, verbose=1) # jumlah kluster ditetapkan sebanyak 2\n",
    "fitClusters_cao = km_cao.fit_predict(df2)"
   ]
  },
  {
   "cell_type": "code",
   "execution_count": 70,
   "id": "b2118896",
   "metadata": {
    "colab": {
     "base_uri": "https://localhost:8080/"
    },
    "id": "b2118896",
    "outputId": "d5dc0ce8-96b8-46fb-c2fc-faf9208486bf"
   },
   "outputs": [
    {
     "data": {
      "text/plain": [
       "array([1, 0, 0, ..., 0, 0, 0], dtype=uint16)"
      ]
     },
     "execution_count": 70,
     "metadata": {},
     "output_type": "execute_result"
    }
   ],
   "source": [
    "fitClusters_cao"
   ]
  },
  {
   "cell_type": "code",
   "execution_count": 71,
   "id": "b7c109cf",
   "metadata": {
    "colab": {
     "base_uri": "https://localhost:8080/",
     "height": 112
    },
    "id": "b7c109cf",
    "outputId": "c452ced2-0c98-4d6d-a292-b17869b03494"
   },
   "outputs": [
    {
     "data": {
      "text/html": [
       "<div>\n",
       "<style scoped>\n",
       "    .dataframe tbody tr th:only-of-type {\n",
       "        vertical-align: middle;\n",
       "    }\n",
       "\n",
       "    .dataframe tbody tr th {\n",
       "        vertical-align: top;\n",
       "    }\n",
       "\n",
       "    .dataframe thead th {\n",
       "        text-align: right;\n",
       "    }\n",
       "</style>\n",
       "<table border=\"1\" class=\"dataframe\">\n",
       "  <thead>\n",
       "    <tr style=\"text-align: right;\">\n",
       "      <th></th>\n",
       "      <th>Gender</th>\n",
       "      <th>Tinggal_Dengan</th>\n",
       "      <th>Status_Kerja</th>\n",
       "      <th>Biaya</th>\n",
       "      <th>Tgl_Daftar_Kuliah</th>\n",
       "      <th>Alamat</th>\n",
       "      <th>UKM</th>\n",
       "      <th>Organisasi_Kampus</th>\n",
       "      <th>Lama_Kuliah</th>\n",
       "      <th>Fakultas</th>\n",
       "    </tr>\n",
       "  </thead>\n",
       "  <tbody>\n",
       "    <tr>\n",
       "      <th>0</th>\n",
       "      <td>Wanita</td>\n",
       "      <td>Unknown</td>\n",
       "      <td>Bekerja</td>\n",
       "      <td>Beasiswa</td>\n",
       "      <td>2007</td>\n",
       "      <td>Tangerang</td>\n",
       "      <td>UKM_2</td>\n",
       "      <td>Tidak</td>\n",
       "      <td>4.5</td>\n",
       "      <td>FT</td>\n",
       "    </tr>\n",
       "    <tr>\n",
       "      <th>1</th>\n",
       "      <td>Pria</td>\n",
       "      <td>Orang Tua</td>\n",
       "      <td>Belum</td>\n",
       "      <td>Orang Tua</td>\n",
       "      <td>2009</td>\n",
       "      <td>Bogor</td>\n",
       "      <td>UKM_3</td>\n",
       "      <td>Ya</td>\n",
       "      <td>5.0</td>\n",
       "      <td>FTI</td>\n",
       "    </tr>\n",
       "  </tbody>\n",
       "</table>\n",
       "</div>"
      ],
      "text/plain": [
       "   Gender Tinggal_Dengan Status_Kerja      Biaya Tgl_Daftar_Kuliah     Alamat  \\\n",
       "0  Wanita        Unknown      Bekerja   Beasiswa              2007  Tangerang   \n",
       "1    Pria      Orang Tua        Belum  Orang Tua              2009      Bogor   \n",
       "\n",
       "     UKM Organisasi_Kampus Lama_Kuliah Fakultas  \n",
       "0  UKM_2             Tidak         4.5       FT  \n",
       "1  UKM_3                Ya         5.0      FTI  "
      ]
     },
     "execution_count": 71,
     "metadata": {},
     "output_type": "execute_result"
    }
   ],
   "source": [
    "clusterCentroidsDf = pd.DataFrame(km_cao.cluster_centroids_)\n",
    "clusterCentroidsDf.columns = df2.columns\n",
    "\n",
    "clusterCentroidsDf"
   ]
  },
  {
   "cell_type": "markdown",
   "id": "64glJRmhJ4cb",
   "metadata": {
    "id": "64glJRmhJ4cb"
   },
   "source": [
    "### Menerapkan *Elbow Method* untuk menentukan jumlah *cluster* yang tepat"
   ]
  },
  {
   "cell_type": "code",
   "execution_count": 72,
   "id": "21430fe1",
   "metadata": {
    "colab": {
     "base_uri": "https://localhost:8080/"
    },
    "id": "21430fe1",
    "outputId": "5f944696-91e8-40e6-8604-06e72f6d7ce0"
   },
   "outputs": [
    {
     "name": "stdout",
     "output_type": "stream",
     "text": [
      "Init: initializing centroids\n",
      "Init: initializing clusters\n",
      "Starting iterations...\n",
      "Run 1, iteration: 1/100, moves: 0, cost: 76299.0\n",
      "Init: initializing centroids\n",
      "Init: initializing clusters\n",
      "Starting iterations...\n",
      "Run 1, iteration: 1/100, moves: 0, cost: 65191.0\n",
      "Init: initializing centroids\n",
      "Init: initializing clusters\n",
      "Starting iterations...\n",
      "Run 1, iteration: 1/100, moves: 0, cost: 60992.0\n",
      "Init: initializing centroids\n",
      "Init: initializing clusters\n",
      "Starting iterations...\n",
      "Run 1, iteration: 1/100, moves: 0, cost: 57711.0\n",
      "Init: initializing centroids\n",
      "Init: initializing clusters\n",
      "Starting iterations...\n",
      "Run 1, iteration: 1/100, moves: 0, cost: 56058.0\n",
      "Init: initializing centroids\n",
      "Init: initializing clusters\n",
      "Starting iterations...\n",
      "Run 1, iteration: 1/100, moves: 0, cost: 54559.0\n",
      "Init: initializing centroids\n",
      "Init: initializing clusters\n",
      "Starting iterations...\n",
      "Run 1, iteration: 1/100, moves: 0, cost: 53221.0\n",
      "Init: initializing centroids\n",
      "Init: initializing clusters\n",
      "Starting iterations...\n",
      "Run 1, iteration: 1/100, moves: 0, cost: 52000.0\n",
      "Init: initializing centroids\n",
      "Init: initializing clusters\n",
      "Starting iterations...\n",
      "Run 1, iteration: 1/100, moves: 0, cost: 50879.0\n"
     ]
    }
   ],
   "source": [
    "cost = []\n",
    "for num_clusters in list(range(1,10)):\n",
    "    kmode = KModes(n_clusters=num_clusters, init = \"Cao\", n_init = 1, verbose=1)\n",
    "    labels = kmode.fit_predict(df2)\n",
    "    cost.append(kmode.cost_)"
   ]
  },
  {
   "cell_type": "code",
   "execution_count": 73,
   "id": "09b909e6",
   "metadata": {
    "colab": {
     "base_uri": "https://localhost:8080/",
     "height": 281
    },
    "id": "09b909e6",
    "outputId": "aa979574-c4ce-4fb0-9ed3-87c1f2998938"
   },
   "outputs": [
    {
     "data": {
      "image/png": "[encoded data removed]",
      "text/plain": [
       "<Figure size 432x288 with 1 Axes>"
      ]
     },
     "metadata": {},
     "output_type": "display_data"
    }
   ],
   "source": [
    "y = np.array([i for i in range(1,10,1)])\n",
    "plt.plot(y,cost, color = 'darkblue')\n",
    "sns.set(rc={'axes.facecolor':'#E6DDC4', 'figure.facecolor':'white'})\n",
    "plt.title('Elbow Method Plot')\n",
    "plt.show()"
   ]
  },
  {
   "cell_type": "markdown",
   "id": "54dd3ca4",
   "metadata": {},
   "source": [
    "Berdasarkan lekukan garis pada grafik Elbow Method, jumlah klaster yang optimal adalah 4"
   ]
  },
  {
   "cell_type": "markdown",
   "id": "DS1fFeUX-ExD",
   "metadata": {
    "id": "DS1fFeUX-ExD"
   },
   "source": [
    "### Menerapkan *CALINKSI-HARABASZ Method* untuk menentukan jumlah *cluster* yang tepat"
   ]
  },
  {
   "cell_type": "code",
   "execution_count": 74,
   "id": "qmC5e66W-JTh",
   "metadata": {
    "colab": {
     "base_uri": "https://localhost:8080/"
    },
    "id": "qmC5e66W-JTh",
    "outputId": "d88cee94-8d3e-44e3-f76b-c84e1bd68b48"
   },
   "outputs": [
    {
     "name": "stdout",
     "output_type": "stream",
     "text": [
      "Init: initializing centroids\n",
      "Init: initializing clusters\n",
      "Starting iterations...\n",
      "Run 1, iteration: 1/100, moves: 0, cost: 65191.0\n",
      "Init: initializing centroids\n",
      "Init: initializing clusters\n",
      "Starting iterations...\n",
      "Run 1, iteration: 1/100, moves: 0, cost: 60992.0\n",
      "Init: initializing centroids\n",
      "Init: initializing clusters\n",
      "Starting iterations...\n",
      "Run 1, iteration: 1/100, moves: 0, cost: 57711.0\n",
      "Init: initializing centroids\n",
      "Init: initializing clusters\n",
      "Starting iterations...\n",
      "Run 1, iteration: 1/100, moves: 0, cost: 56058.0\n"
     ]
    }
   ],
   "source": [
    "from sklearn.metrics import calinski_harabasz_score\n",
    "\n",
    "ch_result = []\n",
    "for num_clusters in list(range(2,6)):\n",
    "    kmode = KModes(n_clusters=num_clusters, init = \"Cao\", n_init = 1, verbose=1)\n",
    "    labels = kmode.fit_predict(df3)\n",
    "    ch_index = calinski_harabasz_score(df3, labels)\n",
    "    ch_result.append(ch_index)"
   ]
  },
  {
   "cell_type": "code",
   "execution_count": 75,
   "id": "ibchJ6wJ-K-0",
   "metadata": {
    "colab": {
     "base_uri": "https://localhost:8080/",
     "height": 284
    },
    "id": "ibchJ6wJ-K-0",
    "outputId": "e6ebdb80-5d93-41cc-c65a-26e2f3e94024"
   },
   "outputs": [
    {
     "data": {
      "image/png": "[encoded data removed]",
      "text/plain": [
       "<Figure size 432x288 with 1 Axes>"
      ]
     },
     "metadata": {},
     "output_type": "display_data"
    }
   ],
   "source": [
    "y = np.array([i for i in range(2,6,1)])\n",
    "plt.plot(y, ch_result)\n",
    "sns.set(rc={'axes.facecolor':'#E6DDC4', 'figure.facecolor':'white'})\n",
    "plt.title('Calinski Harabasz Method Plot')\n",
    "plt.show()"
   ]
  },
  {
   "cell_type": "markdown",
   "id": "34aa63ac",
   "metadata": {},
   "source": [
    "Berdasarkan grafik Calinski Harabasz, jumlah klaster yang optimal juga 4. Maka dari itu, kita akan menetapkan jumlah klaster sebanyak 4 saat melakukan clustering."
   ]
  },
  {
   "cell_type": "markdown",
   "id": "c4ca5deb",
   "metadata": {},
   "source": [
    "### Melakukan Clustering dengan 4 Klaster"
   ]
  },
  {
   "cell_type": "code",
   "execution_count": 76,
   "id": "cd11abe7",
   "metadata": {
    "colab": {
     "base_uri": "https://localhost:8080/"
    },
    "id": "cd11abe7",
    "outputId": "54a855d2-3fda-4e55-f70e-dd89bfa12951"
   },
   "outputs": [
    {
     "name": "stdout",
     "output_type": "stream",
     "text": [
      "Init: initializing centroids\n",
      "Init: initializing clusters\n",
      "Starting iterations...\n",
      "Run 1, iteration: 1/100, moves: 0, cost: 57711.0\n"
     ]
    }
   ],
   "source": [
    "km_cao = KModes(n_clusters=4, init = \"Cao\", n_init = 1, verbose=1)\n",
    "fitClusters_cao = km_cao.fit_predict(df2)"
   ]
  },
  {
   "cell_type": "code",
   "execution_count": 77,
   "id": "dcf8a25b",
   "metadata": {
    "colab": {
     "base_uri": "https://localhost:8080/"
    },
    "id": "dcf8a25b",
    "outputId": "5240ef7e-26b8-4256-a40b-5396af8f2391"
   },
   "outputs": [
    {
     "data": {
      "text/plain": [
       "array([3, 0, 0, ..., 0, 0, 3], dtype=uint16)"
      ]
     },
     "execution_count": 77,
     "metadata": {},
     "output_type": "execute_result"
    }
   ],
   "source": [
    "fitClusters_cao"
   ]
  },
  {
   "cell_type": "code",
   "execution_count": 80,
   "id": "b1c5752b",
   "metadata": {
    "id": "b1c5752b"
   },
   "outputs": [],
   "source": [
    "df2 = df2.reset_index()"
   ]
  },
  {
   "cell_type": "code",
   "execution_count": 81,
   "id": "6d73cc37",
   "metadata": {
    "colab": {
     "base_uri": "https://localhost:8080/",
     "height": 424
    },
    "id": "6d73cc37",
    "outputId": "73d2b840-d7c4-4b0a-8333-dd45329bd3a4"
   },
   "outputs": [
    {
     "data": {
      "text/html": [
       "<div>\n",
       "<style scoped>\n",
       "    .dataframe tbody tr th:only-of-type {\n",
       "        vertical-align: middle;\n",
       "    }\n",
       "\n",
       "    .dataframe tbody tr th {\n",
       "        vertical-align: top;\n",
       "    }\n",
       "\n",
       "    .dataframe thead th {\n",
       "        text-align: right;\n",
       "    }\n",
       "</style>\n",
       "<table border=\"1\" class=\"dataframe\">\n",
       "  <thead>\n",
       "    <tr style=\"text-align: right;\">\n",
       "      <th></th>\n",
       "      <th>cluster_predicted</th>\n",
       "    </tr>\n",
       "  </thead>\n",
       "  <tbody>\n",
       "    <tr>\n",
       "      <th>0</th>\n",
       "      <td>3</td>\n",
       "    </tr>\n",
       "    <tr>\n",
       "      <th>1</th>\n",
       "      <td>0</td>\n",
       "    </tr>\n",
       "    <tr>\n",
       "      <th>2</th>\n",
       "      <td>0</td>\n",
       "    </tr>\n",
       "    <tr>\n",
       "      <th>3</th>\n",
       "      <td>3</td>\n",
       "    </tr>\n",
       "    <tr>\n",
       "      <th>4</th>\n",
       "      <td>3</td>\n",
       "    </tr>\n",
       "    <tr>\n",
       "      <th>...</th>\n",
       "      <td>...</td>\n",
       "    </tr>\n",
       "    <tr>\n",
       "      <th>11269</th>\n",
       "      <td>1</td>\n",
       "    </tr>\n",
       "    <tr>\n",
       "      <th>11270</th>\n",
       "      <td>0</td>\n",
       "    </tr>\n",
       "    <tr>\n",
       "      <th>11271</th>\n",
       "      <td>0</td>\n",
       "    </tr>\n",
       "    <tr>\n",
       "      <th>11272</th>\n",
       "      <td>0</td>\n",
       "    </tr>\n",
       "    <tr>\n",
       "      <th>11273</th>\n",
       "      <td>3</td>\n",
       "    </tr>\n",
       "  </tbody>\n",
       "</table>\n",
       "<p>11274 rows × 1 columns</p>\n",
       "</div>"
      ],
      "text/plain": [
       "       cluster_predicted\n",
       "0                      3\n",
       "1                      0\n",
       "2                      0\n",
       "3                      3\n",
       "4                      3\n",
       "...                  ...\n",
       "11269                  1\n",
       "11270                  0\n",
       "11271                  0\n",
       "11272                  0\n",
       "11273                  3\n",
       "\n",
       "[11274 rows x 1 columns]"
      ]
     },
     "execution_count": 81,
     "metadata": {},
     "output_type": "execute_result"
    }
   ],
   "source": [
    "clustersDf = pd.DataFrame(fitClusters_cao)\n",
    "clustersDf.columns = ['cluster_predicted']\n",
    "combinedDf = pd.concat([df2, clustersDf], axis = 1).reset_index()\n",
    "combinedDf = combinedDf.drop(['index', 'level_0'], axis = 1)\n",
    "\n",
    "clustersDf"
   ]
  },
  {
   "cell_type": "code",
   "execution_count": 82,
   "id": "82bf93e4",
   "metadata": {
    "colab": {
     "base_uri": "https://localhost:8080/",
     "height": 206
    },
    "id": "82bf93e4",
    "outputId": "cf58c16a-4ea4-4023-ee8e-7fc8aee495bc"
   },
   "outputs": [
    {
     "data": {
      "text/html": [
       "<div>\n",
       "<style scoped>\n",
       "    .dataframe tbody tr th:only-of-type {\n",
       "        vertical-align: middle;\n",
       "    }\n",
       "\n",
       "    .dataframe tbody tr th {\n",
       "        vertical-align: top;\n",
       "    }\n",
       "\n",
       "    .dataframe thead th {\n",
       "        text-align: right;\n",
       "    }\n",
       "</style>\n",
       "<table border=\"1\" class=\"dataframe\">\n",
       "  <thead>\n",
       "    <tr style=\"text-align: right;\">\n",
       "      <th></th>\n",
       "      <th>Gender</th>\n",
       "      <th>Tinggal_Dengan</th>\n",
       "      <th>Status_Kerja</th>\n",
       "      <th>Biaya</th>\n",
       "      <th>Tgl_Daftar_Kuliah</th>\n",
       "      <th>Alamat</th>\n",
       "      <th>UKM</th>\n",
       "      <th>Organisasi_Kampus</th>\n",
       "      <th>Lama_Kuliah</th>\n",
       "      <th>Fakultas</th>\n",
       "      <th>cluster_predicted</th>\n",
       "    </tr>\n",
       "  </thead>\n",
       "  <tbody>\n",
       "    <tr>\n",
       "      <th>0</th>\n",
       "      <td>Pria</td>\n",
       "      <td>Kos</td>\n",
       "      <td>Belum</td>\n",
       "      <td>Beasiswa</td>\n",
       "      <td>2008</td>\n",
       "      <td>Tangerang</td>\n",
       "      <td>UKM_3</td>\n",
       "      <td>Ya</td>\n",
       "      <td>3.5</td>\n",
       "      <td>DKV</td>\n",
       "      <td>3</td>\n",
       "    </tr>\n",
       "    <tr>\n",
       "      <th>1</th>\n",
       "      <td>Wanita</td>\n",
       "      <td>Unknown</td>\n",
       "      <td>Belum</td>\n",
       "      <td>Unknown</td>\n",
       "      <td>2009</td>\n",
       "      <td>Bekasi</td>\n",
       "      <td>UKM_2</td>\n",
       "      <td>Tidak</td>\n",
       "      <td>4.0</td>\n",
       "      <td>FIKOM</td>\n",
       "      <td>0</td>\n",
       "    </tr>\n",
       "    <tr>\n",
       "      <th>2</th>\n",
       "      <td>Wanita</td>\n",
       "      <td>Unknown</td>\n",
       "      <td>Bekerja</td>\n",
       "      <td>Beasiswa</td>\n",
       "      <td>2008</td>\n",
       "      <td>Serang</td>\n",
       "      <td>UKM_4</td>\n",
       "      <td>Tidak</td>\n",
       "      <td>4.5</td>\n",
       "      <td>FIKOM</td>\n",
       "      <td>0</td>\n",
       "    </tr>\n",
       "    <tr>\n",
       "      <th>3</th>\n",
       "      <td>Wanita</td>\n",
       "      <td>Orang Tua</td>\n",
       "      <td>Belum</td>\n",
       "      <td>Beasiswa</td>\n",
       "      <td>2009</td>\n",
       "      <td>Serang</td>\n",
       "      <td>UKM_1</td>\n",
       "      <td>Tidak</td>\n",
       "      <td>5.5</td>\n",
       "      <td>DKV</td>\n",
       "      <td>3</td>\n",
       "    </tr>\n",
       "    <tr>\n",
       "      <th>4</th>\n",
       "      <td>Wanita</td>\n",
       "      <td>Orang Tua</td>\n",
       "      <td>Bekerja</td>\n",
       "      <td>Unknown</td>\n",
       "      <td>2009</td>\n",
       "      <td>Bekasi</td>\n",
       "      <td>Tidak</td>\n",
       "      <td>Ya</td>\n",
       "      <td>6.5</td>\n",
       "      <td>DKV</td>\n",
       "      <td>3</td>\n",
       "    </tr>\n",
       "  </tbody>\n",
       "</table>\n",
       "</div>"
      ],
      "text/plain": [
       "   Gender Tinggal_Dengan Status_Kerja     Biaya Tgl_Daftar_Kuliah     Alamat  \\\n",
       "0    Pria            Kos        Belum  Beasiswa              2008  Tangerang   \n",
       "1  Wanita        Unknown        Belum   Unknown              2009     Bekasi   \n",
       "2  Wanita        Unknown      Bekerja  Beasiswa              2008     Serang   \n",
       "3  Wanita      Orang Tua        Belum  Beasiswa              2009     Serang   \n",
       "4  Wanita      Orang Tua      Bekerja   Unknown              2009     Bekasi   \n",
       "\n",
       "     UKM Organisasi_Kampus Lama_Kuliah Fakultas  cluster_predicted  \n",
       "0  UKM_3                Ya         3.5      DKV                  3  \n",
       "1  UKM_2             Tidak         4.0    FIKOM                  0  \n",
       "2  UKM_4             Tidak         4.5    FIKOM                  0  \n",
       "3  UKM_1             Tidak         5.5      DKV                  3  \n",
       "4  Tidak                Ya         6.5      DKV                  3  "
      ]
     },
     "execution_count": 82,
     "metadata": {},
     "output_type": "execute_result"
    }
   ],
   "source": [
    "combinedDf.head()"
   ]
  },
  {
   "cell_type": "markdown",
   "id": "fbad3296",
   "metadata": {},
   "source": [
    "Berikut merupakan hasil kluster untuk tiap data point."
   ]
  },
  {
   "cell_type": "code",
   "execution_count": 83,
   "id": "43cbe1cf",
   "metadata": {
    "id": "43cbe1cf"
   },
   "outputs": [],
   "source": [
    "cluster_0 = combinedDf[combinedDf['cluster_predicted'] == 0]\n",
    "cluster_1 = combinedDf[combinedDf['cluster_predicted'] == 1]\n",
    "cluster_2 = combinedDf[combinedDf['cluster_predicted'] == 2]\n",
    "cluster_3 = combinedDf[combinedDf['cluster_predicted'] == 3]"
   ]
  },
  {
   "cell_type": "markdown",
   "id": "7be0f45e",
   "metadata": {},
   "source": [
    "### Klaster 0"
   ]
  },
  {
   "cell_type": "code",
   "execution_count": 84,
   "id": "312ccb3a",
   "metadata": {
    "colab": {
     "base_uri": "https://localhost:8080/"
    },
    "id": "312ccb3a",
    "outputId": "c57245e1-9dad-4d7f-c77b-ca3df5c952c4"
   },
   "outputs": [
    {
     "name": "stdout",
     "output_type": "stream",
     "text": [
      "<class 'pandas.core.frame.DataFrame'>\n",
      "Int64Index: 3931 entries, 1 to 11272\n",
      "Data columns (total 11 columns):\n",
      " #   Column             Non-Null Count  Dtype \n",
      "---  ------             --------------  ----- \n",
      " 0   Gender             3931 non-null   object\n",
      " 1   Tinggal_Dengan     3931 non-null   object\n",
      " 2   Status_Kerja       3931 non-null   object\n",
      " 3   Biaya              3931 non-null   object\n",
      " 4   Tgl_Daftar_Kuliah  3931 non-null   object\n",
      " 5   Alamat             3931 non-null   object\n",
      " 6   UKM                3931 non-null   object\n",
      " 7   Organisasi_Kampus  3931 non-null   object\n",
      " 8   Lama_Kuliah        3931 non-null   object\n",
      " 9   Fakultas           3931 non-null   object\n",
      " 10  cluster_predicted  3931 non-null   uint16\n",
      "dtypes: object(10), uint16(1)\n",
      "memory usage: 345.5+ KB\n"
     ]
    }
   ],
   "source": [
    "cluster_0.info()"
   ]
  },
  {
   "cell_type": "markdown",
   "id": "caff9ee8",
   "metadata": {},
   "source": [
    "### Klaster 1"
   ]
  },
  {
   "cell_type": "code",
   "execution_count": 85,
   "id": "118397ac",
   "metadata": {
    "colab": {
     "base_uri": "https://localhost:8080/"
    },
    "id": "118397ac",
    "outputId": "52e11915-ddbd-4f1b-c3eb-ea63e799f7b6"
   },
   "outputs": [
    {
     "name": "stdout",
     "output_type": "stream",
     "text": [
      "<class 'pandas.core.frame.DataFrame'>\n",
      "Int64Index: 3141 entries, 7 to 11269\n",
      "Data columns (total 11 columns):\n",
      " #   Column             Non-Null Count  Dtype \n",
      "---  ------             --------------  ----- \n",
      " 0   Gender             3141 non-null   object\n",
      " 1   Tinggal_Dengan     3141 non-null   object\n",
      " 2   Status_Kerja       3141 non-null   object\n",
      " 3   Biaya              3141 non-null   object\n",
      " 4   Tgl_Daftar_Kuliah  3141 non-null   object\n",
      " 5   Alamat             3141 non-null   object\n",
      " 6   UKM                3141 non-null   object\n",
      " 7   Organisasi_Kampus  3141 non-null   object\n",
      " 8   Lama_Kuliah        3141 non-null   object\n",
      " 9   Fakultas           3141 non-null   object\n",
      " 10  cluster_predicted  3141 non-null   uint16\n",
      "dtypes: object(10), uint16(1)\n",
      "memory usage: 276.1+ KB\n"
     ]
    }
   ],
   "source": [
    "cluster_1.info()"
   ]
  },
  {
   "cell_type": "markdown",
   "id": "c1169203",
   "metadata": {},
   "source": [
    "### Klaster 2"
   ]
  },
  {
   "cell_type": "code",
   "execution_count": 86,
   "id": "L99AxrfFthm1",
   "metadata": {
    "colab": {
     "base_uri": "https://localhost:8080/"
    },
    "id": "L99AxrfFthm1",
    "outputId": "ac3cae75-48f7-4f16-8456-822dfeac4dfc"
   },
   "outputs": [
    {
     "name": "stdout",
     "output_type": "stream",
     "text": [
      "<class 'pandas.core.frame.DataFrame'>\n",
      "Int64Index: 2251 entries, 5 to 11252\n",
      "Data columns (total 11 columns):\n",
      " #   Column             Non-Null Count  Dtype \n",
      "---  ------             --------------  ----- \n",
      " 0   Gender             2251 non-null   object\n",
      " 1   Tinggal_Dengan     2251 non-null   object\n",
      " 2   Status_Kerja       2251 non-null   object\n",
      " 3   Biaya              2251 non-null   object\n",
      " 4   Tgl_Daftar_Kuliah  2251 non-null   object\n",
      " 5   Alamat             2251 non-null   object\n",
      " 6   UKM                2251 non-null   object\n",
      " 7   Organisasi_Kampus  2251 non-null   object\n",
      " 8   Lama_Kuliah        2251 non-null   object\n",
      " 9   Fakultas           2251 non-null   object\n",
      " 10  cluster_predicted  2251 non-null   uint16\n",
      "dtypes: object(10), uint16(1)\n",
      "memory usage: 197.8+ KB\n"
     ]
    }
   ],
   "source": [
    "cluster_2.info()"
   ]
  },
  {
   "cell_type": "markdown",
   "id": "b1bf4325",
   "metadata": {},
   "source": [
    "### Klaster 3"
   ]
  },
  {
   "cell_type": "code",
   "execution_count": 87,
   "id": "KNGiZ708tjZD",
   "metadata": {
    "colab": {
     "base_uri": "https://localhost:8080/"
    },
    "id": "KNGiZ708tjZD",
    "outputId": "165c8117-a162-40b6-db3d-8526222514c5"
   },
   "outputs": [
    {
     "name": "stdout",
     "output_type": "stream",
     "text": [
      "<class 'pandas.core.frame.DataFrame'>\n",
      "Int64Index: 1951 entries, 0 to 11273\n",
      "Data columns (total 11 columns):\n",
      " #   Column             Non-Null Count  Dtype \n",
      "---  ------             --------------  ----- \n",
      " 0   Gender             1951 non-null   object\n",
      " 1   Tinggal_Dengan     1951 non-null   object\n",
      " 2   Status_Kerja       1951 non-null   object\n",
      " 3   Biaya              1951 non-null   object\n",
      " 4   Tgl_Daftar_Kuliah  1951 non-null   object\n",
      " 5   Alamat             1951 non-null   object\n",
      " 6   UKM                1951 non-null   object\n",
      " 7   Organisasi_Kampus  1951 non-null   object\n",
      " 8   Lama_Kuliah        1951 non-null   object\n",
      " 9   Fakultas           1951 non-null   object\n",
      " 10  cluster_predicted  1951 non-null   uint16\n",
      "dtypes: object(10), uint16(1)\n",
      "memory usage: 171.5+ KB\n"
     ]
    }
   ],
   "source": [
    "cluster_3.info()"
   ]
  },
  {
   "cell_type": "markdown",
   "id": "rOGkQeZQLHgO",
   "metadata": {
    "id": "rOGkQeZQLHgO"
   },
   "source": [
    "### Visualisasi Hasil Klasterisasi Tiap Atribut"
   ]
  },
  {
   "cell_type": "code",
   "execution_count": 88,
   "id": "cb0bc8dd",
   "metadata": {
    "colab": {
     "base_uri": "https://localhost:8080/",
     "height": 355
    },
    "id": "cb0bc8dd",
    "outputId": "e9957e0c-9b23-4569-8e4f-2bd95643a168"
   },
   "outputs": [
    {
     "data": {
      "image/png": "[encoded data removed]",
      "text/plain": [
       "<Figure size 1080x360 with 1 Axes>"
      ]
     },
     "metadata": {},
     "output_type": "display_data"
    }
   ],
   "source": [
    "plt.subplots(figsize = (15,5))\n",
    "sns.countplot(x=combinedDf['Lama_Kuliah'],hue=combinedDf['cluster_predicted']).set(title='Klasterisasi Mahasiswa Berdasarkan Lama Kuliah')\n",
    "plt.show()"
   ]
  },
  {
   "cell_type": "code",
   "execution_count": 89,
   "id": "7516e596",
   "metadata": {
    "colab": {
     "base_uri": "https://localhost:8080/",
     "height": 355
    },
    "id": "7516e596",
    "outputId": "5de64c5b-7dda-464a-d7ae-f3b1bf44e590"
   },
   "outputs": [
    {
     "data": {
      "image/png": "[encoded data removed]",
      "text/plain": [
       "<Figure size 1080x360 with 1 Axes>"
      ]
     },
     "metadata": {},
     "output_type": "display_data"
    }
   ],
   "source": [
    "plt.subplots(figsize = (15,5))\n",
    "sns.countplot(x=combinedDf['Status_Kerja'],hue=combinedDf['cluster_predicted']).set(title='Klasterisasi Mahasiswa Berdasarkan Status Kerja')\n",
    "plt.show()"
   ]
  },
  {
   "cell_type": "code",
   "execution_count": 90,
   "id": "3740c316",
   "metadata": {
    "colab": {
     "base_uri": "https://localhost:8080/",
     "height": 356
    },
    "id": "3740c316",
    "outputId": "7525d97b-30d5-470e-c68e-1286347049fe"
   },
   "outputs": [
    {
     "data": {
      "image/png": "[encoded data removed]",
      "text/plain": [
       "<Figure size 1080x360 with 1 Axes>"
      ]
     },
     "metadata": {},
     "output_type": "display_data"
    }
   ],
   "source": [
    "plt.subplots(figsize = (15,5))\n",
    "sns.countplot(x=combinedDf['UKM'],hue=combinedDf['cluster_predicted']).set(title='Klasterisasi Mahasiswa Berdasarkan Keikutsertaan UKM')\n",
    "plt.show()"
   ]
  },
  {
   "cell_type": "code",
   "execution_count": 91,
   "id": "6b099a7e",
   "metadata": {
    "colab": {
     "base_uri": "https://localhost:8080/",
     "height": 355
    },
    "id": "6b099a7e",
    "outputId": "aa32ff00-0331-4a0f-a36b-2d2786d86d49"
   },
   "outputs": [
    {
     "data": {
      "image/png": "[encoded data removed]",
      "text/plain": [
       "<Figure size 1080x360 with 1 Axes>"
      ]
     },
     "metadata": {},
     "output_type": "display_data"
    }
   ],
   "source": [
    "plt.subplots(figsize = (15,5))\n",
    "sns.countplot(x=combinedDf['Organisasi_Kampus'],hue=combinedDf['cluster_predicted']).set(title='Klasterisasi Mahasiswa Berdasarkan Keikutsertaan Organisasi Kampus')\n",
    "plt.show()"
   ]
  },
  {
   "cell_type": "code",
   "execution_count": 92,
   "id": "18874484",
   "metadata": {
    "colab": {
     "base_uri": "https://localhost:8080/",
     "height": 355
    },
    "id": "18874484",
    "outputId": "47b29f78-5acc-447c-fe74-71f1fe09ed7b"
   },
   "outputs": [
    {
     "data": {
      "image/png": "[encoded data removed]",
      "text/plain": [
       "<Figure size 1080x360 with 1 Axes>"
      ]
     },
     "metadata": {},
     "output_type": "display_data"
    }
   ],
   "source": [
    "plt.subplots(figsize = (15,5))\n",
    "sns.countplot(x=combinedDf['Fakultas'],hue=combinedDf['cluster_predicted']).set(title='Klasterisasi Mahasiswa Berdasarkan Fakultas')\n",
    "plt.show()"
   ]
  },
  {
   "cell_type": "code",
   "execution_count": 93,
   "id": "e245a122",
   "metadata": {
    "colab": {
     "base_uri": "https://localhost:8080/",
     "height": 355
    },
    "id": "e245a122",
    "outputId": "890b85a9-9ab9-43ff-d933-d0ca5981d239"
   },
   "outputs": [
    {
     "data": {
      "image/png": "[encoded data removed]",
      "text/plain": [
       "<Figure size 1080x360 with 1 Axes>"
      ]
     },
     "metadata": {},
     "output_type": "display_data"
    }
   ],
   "source": [
    "plt.subplots(figsize = (15,5))\n",
    "sns.countplot(x=combinedDf['Biaya'],hue=combinedDf['cluster_predicted']).set(title='Klasterisasi Mahasiswa Berdasarkan Biaya')\n",
    "plt.show()"
   ]
  },
  {
   "cell_type": "code",
   "execution_count": 94,
   "id": "pUTdiAsBvYQ_",
   "metadata": {
    "colab": {
     "base_uri": "https://localhost:8080/",
     "height": 355
    },
    "id": "pUTdiAsBvYQ_",
    "outputId": "8e690c47-a9a6-4fff-ed3a-e0ace2fd26de"
   },
   "outputs": [
    {
     "data": {
      "image/png": "[encoded data removed]",
      "text/plain": [
       "<Figure size 1080x360 with 1 Axes>"
      ]
     },
     "metadata": {},
     "output_type": "display_data"
    }
   ],
   "source": [
    "plt.subplots(figsize = (15,5))\n",
    "sns.countplot(x=combinedDf['Tinggal_Dengan'],hue=combinedDf['cluster_predicted']).set(title='Klasterisasi Mahasiswa Berdasarkan Tinggal Dengan')\n",
    "plt.show()"
   ]
  },
  {
   "cell_type": "code",
   "execution_count": 95,
   "id": "Psgcaah4vhh1",
   "metadata": {
    "colab": {
     "base_uri": "https://localhost:8080/",
     "height": 355
    },
    "id": "Psgcaah4vhh1",
    "outputId": "18f9afe7-f533-4d5d-9fee-2b35ac5f4915"
   },
   "outputs": [
    {
     "data": {
      "image/png": "[encoded data removed]",
      "text/plain": [
       "<Figure size 1080x360 with 1 Axes>"
      ]
     },
     "metadata": {},
     "output_type": "display_data"
    }
   ],
   "source": [
    "plt.subplots(figsize = (15,5))\n",
    "sns.countplot(x=combinedDf['Gender'],hue=combinedDf['cluster_predicted']).set(title='Klasterisasi Mahasiswa Berdasarkan Gender')\n",
    "plt.show()"
   ]
  },
  {
   "cell_type": "code",
   "execution_count": 96,
   "id": "9r-k-vLdMh7y",
   "metadata": {
    "colab": {
     "base_uri": "https://localhost:8080/",
     "height": 355
    },
    "id": "9r-k-vLdMh7y",
    "outputId": "5258819f-8b4e-42aa-c1f3-1069f50d3579"
   },
   "outputs": [
    {
     "data": {
      "image/png": "[encoded data removed]",
      "text/plain": [
       "<Figure size 1080x360 with 1 Axes>"
      ]
     },
     "metadata": {},
     "output_type": "display_data"
    }
   ],
   "source": [
    "plt.subplots(figsize = (15,5))\n",
    "sns.countplot(x=combinedDf['Alamat'],hue=combinedDf['cluster_predicted']).set(title='Klasterisasi Mahasiswa Berdasarkan Alamat')\n",
    "plt.show()"
   ]
  },
  {
   "cell_type": "code",
   "execution_count": 97,
   "id": "NgqIddkFMm-4",
   "metadata": {
    "colab": {
     "base_uri": "https://localhost:8080/",
     "height": 355
    },
    "id": "NgqIddkFMm-4",
    "outputId": "3ef65257-9409-403f-d071-5a719aa73c62"
   },
   "outputs": [
    {
     "data": {
      "image/png": "[encoded data removed]",
      "text/plain": [
       "<Figure size 1080x360 with 1 Axes>"
      ]
     },
     "metadata": {},
     "output_type": "display_data"
    }
   ],
   "source": [
    "plt.subplots(figsize = (15,5))\n",
    "sns.countplot(x=combinedDf['Tgl_Daftar_Kuliah'],hue=combinedDf['cluster_predicted']).set(title='Klasterisasi Mahasiswa Berdasarkan Tanggal Daftar Kuliah')\n",
    "plt.show()"
   ]
  },
  {
   "cell_type": "markdown",
   "id": "47e5285b",
   "metadata": {
    "id": "xE9jMU25POzT"
   },
   "source": [
    "**Hasil insight pada visualisasi diatas dapat dilihat pada file report (Rencana_Akademik_Paper.pdf)**"
   ]
  }
 ],
 "metadata": {
  "colab": {
   "collapsed_sections": [],
   "provenance": []
  },
  "kernelspec": {
   "display_name": "Python 3 (ipykernel)",
   "language": "python",
   "name": "python3"
  },
  "language_info": {
   "codemirror_mode": {
    "name": "ipython",
    "version": 3
   },
   "file_extension": ".py",
   "mimetype": "text/x-python",
   "name": "python",
   "nbconvert_exporter": "python",
   "pygments_lexer": "ipython3",
   "version": "3.9.12"
  }
 },
 "nbformat": 4,
 "nbformat_minor": 5
}
